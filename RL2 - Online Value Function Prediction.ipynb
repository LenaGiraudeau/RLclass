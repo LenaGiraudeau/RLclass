{
 "cells": [
  {
   "cell_type": "markdown",
   "metadata": {},
   "source": [
    "**Class 2: Online Value Function Prediction.**\n",
    "\n",
    "1. [Everything you need to know](#everything)\n",
    "2. [Value prediction](#pred)\n",
    "    1. [Model-based value prediction](#model)\n",
    "    1. [Monte-Carlo evaluation](#mc)\n",
    "    3. [Temporal differences learning](#td0)\n",
    "    4. [TD($\\lambda$)](#tdlambda)\n",
    "    5. [Summary](#predsummary)\n",
    "3. [Value function approximation](#approx)\n",
    "    1. [Linear value function approximation](#linear)\n",
    "    2. [The tabular case is just a specific case of linear model](#tab)\n",
    "    3. [TD($\\lambda$) as a parametric model update](#param)\n",
    "    4. [Non-parametric models](#nonparam)\n",
    "    5. [Conclusion on value function approximation](#conc-FA)"
   ]
  },
  {
   "cell_type": "markdown",
   "metadata": {},
   "source": [
    "# <a id=\"everything\"></a>Everything you need to know\n",
    "\n",
    "\n",
    "Everything you should remember after this session.<br>\n",
    "<br>\n",
    "<div class=\"alert alert-success\">\n",
    "<ul>\n",
    "<li> Model-based RL: infer an MDP model from samples, solve the evaluation equation for this model.\n",
    "<li> Online, stochastic approximation of $V^\\pi$:\n",
    "$$V(s_t) \\leftarrow V(s_t) + \\alpha \\left[ R - V(s_t) \\right]$$\n",
    "where $R$ is the <i>target</i> sample of $V^\\pi$.<br>\n",
    "This procedures converges to $V^\\pi$ under the Robbins-Monro conditions: $\\sum\\limits_{t=0}^\\infty \\alpha_t = \\infty$ and  $\\sum\\limits_{t=0}^\\infty \\alpha_t^2 < \\infty$.\n",
    "<li> Online Monte-Carlo estimates: given a finite length episode, target $R=R_t = \\sum_{i<t} \\gamma^{i-t} r_i$.\n",
    "<li> Given a sample $(s,a=\\pi(s),r,s')$, the temporal difference is $\\delta=r + \\gamma V(s') - V(s)$.\n",
    "<li> TD(0) update: given a sample $(s,a=\\pi(s),r,s')$, target $R=R_t^{(1)}=r + \\gamma V(s')$.\n",
    "<li> TD(0) update on $Q$-functions: given a sample $(s,a,r,s')$, the temporal difference is $\\delta = r + \\gamma Q(s',\\pi(s') - Q(s,a)$ and the update of $Q$ is $Q(s,a) \\leftarrow Q(s,a) + \\alpha \\delta$. This update is off-policy.\n",
    "<li> $n$-step return: $R=R^{(n)}_t = r_t + \\gamma r_{t+1} + \\gamma^2 r_{t+2} + \\ldots + \\gamma^n V_t(s_{t+n})$.\n",
    "<li> $\\lambda$-return: $R=R^\\lambda_t = \\left(1-\\lambda\\right) \\sum\\limits_{n=1}^\\infty \\lambda^{n-1}R_t^{(n)}$.\n",
    "<li> TD($\\lambda$) algorithm: Given a new sample $(s_t,a_t=\\pi(s_t),r_t,s_t')$.\n",
    "<ol>\n",
    "<li> Temporal difference $\\delta = r_t+\\gamma V(s_t') - V(s_t)$.\n",
    "<li> Update eligibility traces for all states<br>\n",
    "$e(s) \\leftarrow \\left\\{\\begin{array}{ll}\n",
    "\\gamma \\lambda e(s) & \\textrm{if } s\\neq s_t\\\\\n",
    "1\\textrm{ (or }1+e(s)\\textrm{)} & \\textrm{if } s=s_t\n",
    "\\end{array}\\right.$\n",
    "<li> Update all state's values $V(s) \\leftarrow V(s) + \\alpha e(s) \\delta$\n",
    "</ol>\n",
    "<li> TD($\\lambda$) implements the $\\lambda$-return algorithm.\n",
    "<li> TD($\\lambda$) (accumulating traces) with parametric function approximation. With $V(s) = V_\\theta(s), \\theta \\in \\mathbb{R}^K$, $e \\in \\mathbb{R}^K$. Initially, $e=0$. Given a new sample $(s_t,a_t=\\pi(s_t),r_t,s_t')$.\n",
    "<ol>\n",
    "<li> Temporal difference $\\delta = r_t+\\gamma V_\\theta(s_t') - \\theta^T V_\\theta(s_t)$.\n",
    "<li> Update eligibility traces for all states $e \\leftarrow \\nabla_\\theta V_\\theta(s) + \\gamma \\lambda e$\n",
    "<li> Update value function $\\theta \\leftarrow \\theta + \\alpha e \\delta$\n",
    "</ol>\n",
    "</ul>\n",
    "</div>\n",
    "\n",
    "Of course, all this seems very obscure right now and the block above will only serve as a reminder when you re-open the notebook later. We will introduce every concept intuitively and progessively."
   ]
  },
  {
   "cell_type": "markdown",
   "metadata": {},
   "source": [
    "# <a id=\"pred\"></a>Value prediction\n",
    "\n",
    "Back on the frozen lake example from the previous class."
   ]
  },
  {
   "cell_type": "code",
<<<<<<< HEAD
   "execution_count": 12,
   "metadata": {
    "ExecuteTime": {
     "end_time": "2020-02-03T13:14:07.567981Z",
     "start_time": "2020-02-03T13:14:07.563954Z"
    }
   },
=======
   "execution_count": null,
   "metadata": {},
>>>>>>> c0e693d095f603cfdbf26b3d1a8a2ca71c54d7c8
   "outputs": [],
   "source": [
    "import gym\n",
    "import gym.envs.toy_text.frozen_lake as fl\n",
    "import numpy as np\n",
    "%matplotlib inline\n",
    "import matplotlib.pyplot as plt\n",
    "np.set_printoptions(precision=3)"
   ]
  },
  {
   "cell_type": "code",
<<<<<<< HEAD
   "execution_count": 13,
   "metadata": {
    "ExecuteTime": {
     "end_time": "2020-02-03T13:14:08.205043Z",
     "start_time": "2020-02-03T13:14:08.199120Z"
    }
   },
   "outputs": [
    {
     "name": "stdout",
     "output_type": "stream",
     "text": [
      "\n",
      "\u001b[41mS\u001b[0mFFF\n",
      "FHFH\n",
      "FFFH\n",
      "HFFG\n",
      "{0: '←', 1: '↓', 2: '→', 3: '↑'}\n"
     ]
    }
   ],
=======
   "execution_count": null,
   "metadata": {},
   "outputs": [],
>>>>>>> c0e693d095f603cfdbf26b3d1a8a2ca71c54d7c8
   "source": [
    "env = gym.make('FrozenLake-v0')\n",
    "env.render()\n",
    "\n",
    "actions = {fl.LEFT: '\\u2190', fl.DOWN: '\\u2193', fl.RIGHT: '\\u2192', fl.UP: '\\u2191'}\n",
    "print(actions)\n",
    "\n",
    "def to_s(row,col):\n",
    "    return row*env.unwrapped.ncol+col\n",
    "\n",
    "def to_row_col(s):\n",
    "    col = s%env.unwrapped.ncol\n",
    "    row = int((s-col)/env.unwrapped.ncol)\n",
    "    return row,col"
   ]
  },
  {
   "cell_type": "markdown",
   "metadata": {},
   "source": [
    "Take a fixed policy $\\pi$. What is its expected value from the starting state (or any other state)?\n",
    "\n",
    "In this section, we will develop 5 different (but related) approches to this question:\n",
    "1. Get samples $(s,\\pi(s),r,s')$, estimate $p^\\pi$ and $r^\\pi$, then solve $V=T^\\pi V$<br>\n",
    "$\\rightarrow$ model-based prediction\n",
    "2. Run successive trials and update $V^\\pi(s)$ in all encountered $s$<br>\n",
    "$\\rightarrow$ Offline Monte Carlo\n",
    "3. Run one trial and update all visited $s$ by back-propagation<br>\n",
    "$\\rightarrow$ Online Monte Carlo\n",
    "4. Get one sample $(s,\\pi(s),r,s')$ and update $V^\\pi(s)$ given $r$ and $V^\\pi(s')$<br>\n",
    "$\\rightarrow$ TD(0)\n",
    "5. Get one sample $(s,\\pi(s),r,s')$ and update $V^\\pi(s)$ in all states<br>\n",
    "$\\rightarrow$ TD($\\lambda$)"
   ]
  },
  {
   "cell_type": "markdown",
   "metadata": {},
   "source": [
    "## <a id=\"model\"></a>Model-based Value Prediction\n",
    "\n",
    "If we can interact with the simulator, we can collect samples and approximate the transition and reward models, then use them to perform model-based resolution of the evaluation equation (as in the previous class).\n",
    "\n",
    "<div class=\"alert alert-warning\"><b>Exercice:</b><br>\n",
    "Let's implement this for the policy that always goes right. Run 10000 episodes until termination (or until a maximum limit of 1000 time steps) and reconstruct an approximation of the transition kernel and reward vector for this policy. Use them to solve the evaluation equation.\n",
    "</div>\n",
    "\n",
    "Pour trouver une estimation de la fonction de valeur est de résoudre l'équation de bellman (cf RL1)\n",
    "\n",
    "\n",
    "Watch out for states from which no transition starts (either because they are terminal states or because they were not reached by this policy): the transition matrix needs to remain valid for the corresponding lines."
   ]
  },
  {
   "cell_type": "code",
   "execution_count": 14,
   "metadata": {
<<<<<<< HEAD
    "ExecuteTime": {
     "end_time": "2020-02-03T13:14:10.173064Z",
     "start_time": "2020-02-03T13:14:09.737347Z"
    },
=======
>>>>>>> c0e693d095f603cfdbf26b3d1a8a2ca71c54d7c8
    "scrolled": true
   },
   "outputs": [
    {
     "name": "stdout",
     "output_type": "stream",
     "text": [
      "[0.013 0.012 0.029 0.    0.018 0.    0.067 0.    0.048 0.145 0.189 0.\n",
      " 0.    0.295 0.561 0.   ]\n"
     ]
    }
   ],
   "source": [
    "# parameters\n",
    "gamma = 0.9\n",
    "epsilon = 1e-4\n",
    "max_steps = 1000 #Limite de temps même si espérance de vie limitée APDCR\n",
    "max_episodes = 10000\n",
    "max_iter_VI = 100\n",
    "#Matrice de transition (proba d'arrivée en s en partant de s')\n",
    "P_pi = np.zeros((env.observation_space.n, env.observation_space.n)) \n",
    "#Matrice de récompenses\n",
    "r_pi = np.zeros((env.observation_space.n))\n",
    "# Matrice qui nous indique le nb de fois ou on est passé à chaque état. \n",
    "x_count = np.zeros((env.observation_space.n))\n",
    "\n",
    "\n",
    "# collect samples, count transitions and accumulate rewards\n",
    "total_steps = 0\n",
    "for ep in range(max_episodes):\n",
    "    x = env.reset()\n",
    "    for t in range(max_steps):\n",
    "        y,r,d,_ = env.step(fl.RIGHT)\n",
    "        P_pi[x][y] += 1 #On va de x à y donc on incrémente\n",
    "        r_pi[x] += r #matrice de récompense\n",
    "        x_count[x] += 1\n",
    "        if d==True:\n",
    "            break\n",
    "        else:\n",
    "            x=y\n",
    "\n",
    "# normalize\n",
    "# Pour assurer de construire une matrice de transition et de récompense, il faut normaliser\n",
    "for x in range(env.observation_space.n):\n",
    "    if x_count[x]==0: # unreached states\n",
    "        P_pi[x][x] = 1\n",
    "        r_pi[x] = 0\n",
    "    else:\n",
    "        P_pi[x][:] = P_pi[x][:]/x_count[x]\n",
    "        r_pi[x]    = r_pi[x]   /x_count[x]\n",
    "\n",
    "\n",
    "# compute V with value iteration\n",
    "V = np.zeros((env.observation_space.n))\n",
    "W = np.zeros((env.observation_space.n))\n",
    "residuals = np.zeros((max_iter_VI))\n",
    "for i in range(max_iter_VI):\n",
    "    W = r_pi + gamma * np.dot(P_pi, V)\n",
    "    residuals[i] = np.max(np.abs(W-V))\n",
    "    V = W\n",
    "    if residuals[i]<epsilon:\n",
    "        residuals = residuals[:i+1]\n",
    "        break\n",
    "\n",
    "print(V)"
   ]
  },
  {
   "cell_type": "markdown",
   "metadata": {},
   "source": [
    "Let's compare with the true values."
   ]
  },
  {
   "cell_type": "code",
<<<<<<< HEAD
   "execution_count": 15,
   "metadata": {
    "ExecuteTime": {
     "end_time": "2020-02-03T13:14:11.652946Z",
     "start_time": "2020-02-03T13:14:11.639429Z"
    }
   },
   "outputs": [
    {
     "name": "stdout",
     "output_type": "stream",
     "text": [
      "[0.013 0.012 0.027 0.    0.019 0.    0.064 0.    0.049 0.146 0.186 0.\n",
      " 0.    0.301 0.556 0.   ]\n"
     ]
    }
   ],
=======
   "execution_count": null,
   "metadata": {},
   "outputs": [],
>>>>>>> c0e693d095f603cfdbf26b3d1a8a2ca71c54d7c8
   "source": [
    "r_pi = np.zeros((env.observation_space.n))\n",
    "P_pi = np.zeros((env.observation_space.n, env.observation_space.n))\n",
    "for x in range(env.observation_space.n):\n",
    "    outcomes = env.unwrapped.P[x][fl.RIGHT]\n",
    "    for o in outcomes:\n",
    "        p = o[0]\n",
    "        y = o[1]\n",
    "        r = o[2]\n",
    "        P_pi[x,y] += p\n",
    "        r_pi[x] += r*p\n",
    "\n",
    "# compute V with value iteration\n",
    "Vtrue = np.zeros((env.observation_space.n))\n",
    "W = np.zeros((env.observation_space.n))\n",
    "residuals = np.zeros((max_iter_VI))\n",
    "for i in range(max_iter_VI):\n",
    "    W = r_pi + gamma * np.dot(P_pi, Vtrue)\n",
    "    residuals[i] = np.max(np.abs(W-V))\n",
    "    Vtrue = W\n",
    "    if residuals[i]<epsilon:\n",
    "        residuals = residuals[:i+1]\n",
    "        break\n",
    "\n",
    "print(Vtrue)"
   ]
  },
  {
   "cell_type": "markdown",
   "metadata": {},
   "source": [
    "So we can see this is a fall-back solution that happens to work reasonably well. This approach is generally called **model-based prediction** or **adaptive dynamic programming** or **indirect reinforcement learning**. It converges to the true $p(s'|s,\\pi(s))$, $r(s,\\pi(s)$ and $V^\\pi$ if the samples are identically and independently distributed (iid). It has the advantage of working both **online** and **offline**. It is however **on-policy**, that is one cannot use samples collected from the execution of $\\pi$ to evaluate $\\pi'$.\n",
    "\n",
    "But in the end there is no direct evaluation of the policy's value, and our intuition tells us that a player is generally able to tell what a policy is worth in a certain state, even though he has never explicitly estimated the transition and reward models. So we must be able to design model-free evaluation methods.\n",
    "\n",
    "<br>\n",
    "<br>\n",
    "\n",
    "\n",
    "On a une première solution dont le fonctionnement est raisonnable mais peut être améliorer: **model-based prediction** or **adaptive dynamic programming**. <br>\n",
    "**On policy**: les échantillons ont été collectés lors d'un test de la politique d'applications --> la construction de la chaine du modèle de Markov, lorsque l'on applique la politique.\n",
    "<br>\n",
    "\n",
    "Il est possible juste à partir des échantillons d'avoir une valeur off-policy: on cherche à évaluer une politique autre que celle qui nous a permi de collecter les échantillons. \n",
    "\n",
    "<br>\n",
    "<br>\n",
    "\n",
    "Mais concrètement on a rarement accès au modèle donc un peu cheaté. "
   ]
  },
  {
   "cell_type": "markdown",
   "metadata": {},
   "source": [
    "## <a id=\"mc\"></a>Monte-Carlo evaluation\n",
    "\n",
    "Monte Carlo methods are intuitive, episode-based methods. \n",
    "\n",
    "Let us start with a fully **offline Monte-Carlo**. The idea is simple: start from $s$, run the policy until termination (or for a long number of steps), repeat for a number of episodes, then update the value of all encountered states. This requires to store in memory full episodes (it also requires that the episodes be finite-length).<br> **A chaque échantillon**\n",
    "\n",
    "Let us move directly to an **online Monte-Carlo** method. It is almost the same idea: start from $s$, run the policy until termination (or for a long number of steps) then update the value of all encountered states before restarting an episode. <br> **A chaque épisode**\n",
    "\n",
    "Let $(s_0, r_0, s_1, \\ldots, s_T)$ be the sequence of transitions of such an episode. Then, this procedure provides an estimate $R_t$ of the value of the state $s_t$ encountered at time step $t$:\n",
    "<div class=\"alert alert-success\"><b>Monte Carlo return:</b>\n",
    "$$R_t = \\sum_{i>t} \\gamma^{i-t} r_i$$\n",
    "</div>\n",
    "\n",
    "Let $R^\\pi(s)$ be the random variable corresponding to the sum of discounted rewards one can obtain from $s$. Then $V^\\pi(s) = \\mathbb{E}(R^\\pi(s))$. Since $R(s_t)$ is a realization of $R(s)$, one can design a **stochastic approximation** procedure that converges to $V^\\pi(s_t)$:\n",
    "<div class=\"alert alert-success\"><b>Stochastic approximation of $V^\\pi$:</b>\n",
    "$$V(s_t) \\leftarrow V(s_t) + \\alpha \\left[ R_t - V(s_t) \\right]$$\n",
    "</div>\n",
    "\n",
    "For those unfamiliar with stochastic approximation procedures, we can understand the previous update as: $R_t$ are samples estimates of $V^\\pi(s_t)$. If I already have an estimation of $V(s_t)$ of $V^\\pi(s_t)$ and I receive a new sample $R_t$, I should \"pull\" my previous estimate towards $R_t$, but $R_t$ carries a part of noise, so I should be cautious and only take a small step $\\alpha$ in the direction of $R_t$. This type of stochastic approximation procedure converges if it respects Robbins-Monro's conditions:\n",
    "<div class=\"alert alert-success\"><b>Robbins-Monro convergence conditions:</b>\n",
    "$$\\sum\\limits_{t=0}^\\infty \\alpha_t = \\infty \\quad \\textrm{  and  } \\quad \\sum\\limits_{t=0}^\\infty \\alpha_t^2 < \\infty.$$\n",
    "</div>\n",
    "Intuitive explanation. These conditions simply say that any value $V^\\pi(s)$ should be reachable given any initial guess $V(s)$, no matter how far from $V^\\pi(s)$ is from this first guess; hence the $\\sum\\limits_{t=0}^\\infty \\alpha_t = \\infty$. However, we still need the step-size to be decreasing so that we don't start oscillating around $V^\\pi(s)$ when we get closer; so to insure convergence we impose $\\sum\\limits_{t=0}^\\infty \\alpha_t^2 < \\infty$.\n",
    "\n",
    "<div class=\"alert alert-warning\"><b>Exercice:</b><br>\n",
    "Implement an online Monte-Carlo estimation for $V^\\pi$. We decide we can tolerate a 0.001 error on $V^\\pi$ so, to keep things simple, we set $\\alpha=0.001$.\n",
    "</div>"
   ]
  },
  {
   "cell_type": "code",
   "execution_count": 18,
   "metadata": {
<<<<<<< HEAD
    "ExecuteTime": {
     "end_time": "2020-02-03T13:34:41.453241Z",
     "start_time": "2020-02-03T13:34:35.788076Z"
    },
    "scrolled": false
=======
    "scrolled": true
>>>>>>> c0e693d095f603cfdbf26b3d1a8a2ca71c54d7c8
   },
   "outputs": [
    {
     "name": "stdout",
     "output_type": "stream",
     "text": [
      "[0.013 0.011 0.034 0.    0.017 0.    0.074 0.    0.047 0.143 0.194 0.\n",
      " 0.    0.301 0.565 0.   ]\n",
      "[0.013 0.012 0.027 0.    0.019 0.    0.064 0.    0.049 0.146 0.186 0.\n",
      " 0.    0.301 0.556 0.   ]\n"
     ]
    },
    {
     "data": {
      "image/png": "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\n",
      "text/plain": [
       "<Figure size 432x288 with 1 Axes>"
      ]
     },
     "metadata": {
      "needs_background": "light"
     },
     "output_type": "display_data"
    },
    {
     "data": {
      "image/png": "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\n",
      "text/plain": [
       "<Figure size 432x288 with 1 Axes>"
      ]
     },
     "metadata": {
      "needs_background": "light"
     },
     "output_type": "display_data"
    }
   ],
   "source": [
    "# parameters\n",
    "gamma = 0.9\n",
    "alpha = 0.001 #Simplification mais on ne respecte pas les conditions de Robbins-Monroe\n",
    "max_steps = 1000\n",
    "max_episodes = 100000\n",
    "V = np.zeros((env.observation_space.n))\n",
    "\n",
    "# error plotting\n",
    "error = np.zeros((max_episodes)) # used to track the convergence to Vtrue...\n",
    "cumulated_steps = np.zeros((max_episodes)) # ... against the number of samples\n",
    "\n",
    "for ep in range(max_episodes):\n",
    "    x = env.reset()\n",
    "    episode = []\n",
    "    # Run episode\n",
    "    for t in range(max_steps):\n",
    "        y,r,d,_ = env.step(fl.RIGHT)\n",
    "        episode.append([x,r])\n",
    "        if d==True:\n",
    "            cumulated_steps[ep] = cumulated_steps[ep-1] + t\n",
    "            break\n",
    "        else:\n",
    "            x=y\n",
    "    # Update values\n",
    "    T = len(episode)\n",
    "    R = np.zeros((T))\n",
    "    R[-1] = episode[-1][1]\n",
    "    x = episode[-1][0]\n",
    "    V[x] = V[x] + alpha * (R[-1] - V[x])\n",
    "    for t in range(-2,-T-1,-1):\n",
    "        R[t] = episode[t][1] + gamma*R[t+1]\n",
    "        x = episode[t][0]\n",
    "        V[x] = V[x] + alpha * (R[t] - V[x])\n",
    "    error[ep] = np.max(np.abs(V-Vtrue))\n",
    "\n",
    "print(V)\n",
    "print(Vtrue)\n",
    "plt.plot(cumulated_steps,error)\n",
    "plt.figure()\n",
    "plt.semilogy(cumulated_steps,error);"
   ]
  },
  {
   "cell_type": "markdown",
   "metadata": {},
   "source": [
    "So online Monte-Carlo allows us to update $V^\\pi$ episode after episode. Some values are better estimated than others depending on how often the corresponding state was visited. <br>\n",
    "\n",
    "\n",
    "Monte-Carlo estimation has some flaws nonetheless. It still requires to store one full episode in memory before $V$ is updated. Also, one rare value for $r_t$ affects directly all the value of the states encountered before $s_t$. So we can question the robustness of this estimator."
   ]
  },
  {
   "cell_type": "markdown",
   "metadata": {},
   "source": [
    "Certaines valeurs sont mieux estimées: car certains états sont bien plus fréquentés que d'autres, donc les moins visités sont les moins bien estimés. <br> <br>\n",
    "\n",
    "C'est dommage de devoir attendre la fin de l'épisode pour mettre à jour, il faudrait pouvoir estimer combien je peux estimer gagner à partir d'un état courant. "
   ]
  },
  {
   "cell_type": "markdown",
   "metadata": {},
   "source": [
    "## <a id=\"td0\"></a>Temporal Differences learning\n",
    "\n",
    "We want to replace Monte-Carlo estimation by a step by step update that only takes $(s,r,s')$ as an input. The key remark we make is that once the $(s,r,s')$ transition is over we can update our knowledge of $V(s)$ by using $r+\\gamma V(s')$. This estimate uses $V(s')$ to *bootstrap*[1] the estimator of $V(s)$.\n",
    "\n",
    "[1] This *bootstrap* operation has nothing to do with the statistical procedure of *bootstrapping*.\n",
    "\n",
    "To get an intuitive understanding of why we can do that, take the following example. You are driving from home to the airport. Half-way, you realize traffic is denser than you usually estimate and you're already 5 minutes behind schedule. Home is $s$, half-way is $s'$, the elapsed time between $s$ and $s'$ is $r$. To update your belief about the average length of the trip home$\\rightarrow$airport ($V(s)$), you don't need to wait until you reach the airport (as a Monte-Carlo estimate would have required). Instead, you can update this belief using $r+V(s')$, the sum of what you observed and what you currently estimate for the rest of the trip. As long as you update all states often enough, the whole procedure should converge to the true $V$.\n",
    "\n",
    "So here is the update that we shall call TD(0):\n",
    "<div class=\"alert alert-success\"><b>TD(0) temporal difference update:</b>\n",
    "$$V(s) \\leftarrow V(s) + \\alpha \\left[ r + \\gamma V(s') - V(s) \\right]$$\n",
    "</div>\n",
    "\n",
    "$\\delta=r + \\gamma V(s') - V(s)$ is called the prediction **temporal difference** (hence the name TD(0) for the algorithm - the \"0\" will be explained in the next section). It is the difference between our estimate $V(s)$ *before* obtaining the information of $r$ and the bootstrapped value $r+\\gamma V(s')$.\n",
    "<div class=\"alert alert-success\"><b>Temporal difference:</b>\n",
    "$$\\delta=r + \\gamma V(s') - V(s)$$\n",
    "</div>\n",
    "\n",
    "**Bootstrapping** (in this particular context) is the operation of using the value of $V(s')$ to update $V(s)$.\n",
    "\n",
    "This is a sample-by-sample update (no need to remember full episodes) and, more importantly, it is adapted to non-episodic environments (with no terminal states). As for online Monte-Carlo, the update above converges to $V^\\pi$ if $\\alpha$ respects the Robbins-Monro conditions:\n",
    "$$\\sum\\limits_{t=0}^\\infty \\alpha_t = \\infty \\quad \\textrm{  and  } \\quad \\sum\\limits_{t=0}^\\infty \\alpha_t^2 < \\infty.$$\n",
    "\n",
    "Often, TD methods converge faster and are more robust estimators than Monte Carlo ones (but not always).\n",
    "\n",
    "<div class=\"alert alert-warning\"><b>Exercice:</b><br>\n",
    "Implement a TD(0) estimation for $V^\\pi$. Again, we decide we can tolerate a 0.001 error on $V^\\pi$ so, to keep things simple, we set $\\alpha=0.001$.\n",
    "</div>"
   ]
  },
  {
   "cell_type": "code",
   "execution_count": null,
   "metadata": {},
   "outputs": [],
   "source": [
    "# parameters\n",
    "gamma = 0.9\n",
    "alpha = 0.001\n",
    "max_steps = 2000000\n",
    "V = np.zeros((env.observation_space.n))\n",
    "\n",
    "# error plotting\n",
    "error = np.zeros((max_steps)) # used to track the convergence to Vtrue\n",
    "\n",
    "x = env.reset()\n",
    "for t in range(max_steps):\n",
    "    y,r,d,_ = env.step(fl.RIGHT)\n",
    "    V[x] = V[x] + alpha * (r+gamma*V[y]-V[x])\n",
    "    error[t] = np.max(np.abs(V-Vtrue))\n",
    "    if d==True:\n",
    "        x = env.reset()\n",
    "    else:\n",
    "        x=y\n",
    "\n",
    "print(V)\n",
    "print(Vtrue)\n",
    "plt.plot(error)\n",
    "plt.figure()\n",
    "plt.semilogy(error);"
   ]
  },
  {
   "cell_type": "markdown",
   "metadata": {},
   "source": [
    "<div class=\"alert alert-warning\"><b>Exercice:</b><br>\n",
    "Can you design a TD(0) algorithm on state-action values functions $Q(s,a)$ that estimates $Q^\\pi$ for a given policy $\\pi$? Does this algorithm require that the transitions from $s$ to $s'$ be sampled using $\\pi$?\n",
    "</div>"
   ]
  },
  {
   "cell_type": "markdown",
   "metadata": {},
   "source": [
    "<div class=\"alert alert-danger\"><a href=\"#TD-Q\" data-toggle=\"collapse\"><b>Answers:</b></a><br>\n",
    "<div id=\"TD-Q\" class=\"collapse\">\n",
    "We wish to estimate $Q(s,a)$:\n",
    "$$Q^\\pi(s,a) = \\mathbb{E}\\left( \\sum\\limits_{t=0}^\\infty \\gamma^t r\\left(s_t, a_t\\right) \\bigg| s_0 = s, a_0=a, \\pi \\right) = r(s,a) + \\gamma \\sum\\limits_{s'\\in S}p(s'|s,a) Q^\\pi(s',\\pi(s'))$$\n",
    "\n",
    "So we can write our temporal difference by bootstrapping with $Q(s',\\pi(s'))$. Suppose the last sample was $(s,a,r,s')$.\n",
    "$$\\delta = r + \\gamma Q(s',\\pi(s')) - Q(s,a)$$\n",
    "And the update of $Q$ goes as:\n",
    "$$Q(s,a) \\leftarrow Q(s,a) + \\alpha \\delta$$\n",
    "As long as all state-action pairs $(s,a)$ are sampled infinitely often as $t\\rightarrow\\infty$, and under the Robbins-Monro conditions, this procedure should converge to $Q^\\pi$. So the transitions should be sampled for every state-action pair and thus do not require to apply $\\pi(s)$ in $s$.\n",
    "</div>\n",
    "</div>"
   ]
  },
  {
   "cell_type": "markdown",
   "metadata": {},
   "source": [
    "<div class=\"alert alert-success\"><b>TD(0) temporal difference update on $Q$-functions:</b><br>\n",
    "For a sample $(s,a,r,s')$, the temporal difference is:\n",
    "$$\\delta = r + \\gamma Q(s',\\pi(s')) - Q(s,a)$$\n",
    "And the TD update is:\n",
    "$$Q(s,a) \\leftarrow Q(s,a) + \\alpha \\left[ r + \\gamma Q(s'\\pi(s')) - Q(s,a) \\right]$$\n",
    "As long as all state-action pairs $(s,a)$ are sampled infinitely often as $t\\rightarrow\\infty$, and under the Robbins-Monro conditions, this procedure converges to $Q^\\pi$.\n",
    "</div>\n",
    "\n",
    "Interestingly, in the exercice above, the samples $(s,a,r,s')$ do not require $a=\\pi(s)$. Even better, they actually require to try all possible actions in $s$ for the procedure to converge (not only $\\pi(s)$). So this TD(0) algorithm on $Q$-functions is an **off-policy** algorithm. One can obtain the value $Q^\\pi$ of a policy $\\pi$ without applying $\\pi$ for sample collection. This will prove very useful during the class on model-free control.<br>\n",
    "<br>\n",
    "<div class=\"alert alert-warning\"><b>Exercice:</b><br>\n",
    "Let's implement TD(0) on $Q$-functions.<br>\n",
    "To insure that all states and actions are sampled infinitely often, just act randomly in each state.<br>\n",
    "In order to speed up convergence, we can initialize $Q(s,a)$ to the value found previously for $V^\\pi(s)$.<br>\n",
    "Use the class on model-based policy evaluation to retrieve the true value of $Q^\\pi$ and display convergence of TD(0).\n",
    "</div>"
   ]
  },
  {
   "cell_type": "code",
   "execution_count": null,
   "metadata": {},
   "outputs": [],
   "source": [
    "# Policy definition and parameters\n",
    "pi0 = fl.RIGHT*np.ones((env.observation_space.n),dtype=np.int)\n",
    "gamma = 0.9\n",
    "alpha = 0.001\n",
    "\n",
    "# Model based evaluation\n",
    "def policy_Qeval_iter(pi, epsilon, max_iter):\n",
    "    Q1 = np.zeros((env.observation_space.n, env.action_space.n))\n",
    "    Q2 = np.zeros((env.observation_space.n, env.action_space.n))\n",
    "    residuals = np.zeros((max_iter))\n",
    "    for i in range(max_iter):\n",
    "        for x in range(env.observation_space.n):\n",
    "            for a in range(env.action_space.n):\n",
    "                Q2[x][a] = 0\n",
    "                outcomes = env.unwrapped.P[x][a]\n",
    "                for o in outcomes:\n",
    "                    p = o[0]\n",
    "                    y = o[1]\n",
    "                    r = o[2]\n",
    "                    Q2[x][a] += p * (r + gamma*Q1[y][pi[y]])\n",
    "        residuals[i] = np.max(np.abs(Q2-Q1))\n",
    "        Q1[:] = Q2\n",
    "        if residuals[i]<epsilon:\n",
    "            residuals = residuals[:i+1]\n",
    "            break\n",
    "    return Q1, residuals\n",
    "\n",
    "Qtrue, residuals = policy_Qeval_iter(pi0,1e-4,10000)\n",
    "print(\"Qtrue:\\n\", Qtrue)\n",
    "print(\"number of iterations:\", residuals.size)\n",
    "plt.plot(residuals)\n",
    "plt.figure()\n",
    "plt.semilogy(residuals)\n",
    "\n",
    "Vtrue = np.zeros((env.observation_space.n))\n",
    "for x in range(env.observation_space.n):\n",
    "    Vtrue[x] = Qtrue[x][pi0[x]]\n",
    "print(\"Vtrue:\\n\", Vtrue)"
   ]
  },
  {
   "cell_type": "code",
   "execution_count": null,
   "metadata": {},
   "outputs": [],
   "source": [
    "# TD(0) evaluation of Qpi\n",
    "# parameters\n",
    "gamma = 0.9\n",
    "alpha = 0.001\n",
    "max_steps=2000000\n",
    "Q = np.transpose(np.tile(V, (4,1)))\n",
    "\n",
    "error = np.zeros((max_steps))\n",
    "x = env.reset()\n",
    "for t in range(max_steps):\n",
    "    a = np.random.randint(4)\n",
    "    y,r,d,_ = env.step(a)\n",
    "    Q[x][a] = Q[x][a] + alpha * (r+gamma*Q[y][fl.RIGHT]-Q[x][a])\n",
    "    error[t] = np.max(np.abs(Q-Qtrue))\n",
    "    if d==True:\n",
    "        x = env.reset()\n",
    "    else:\n",
    "        x=y\n",
    "\n",
    "print(\"Max error:\", np.max(np.abs(Q-Qtrue)))\n",
    "plt.plot(error)\n",
    "plt.figure()\n",
    "plt.semilogy(error);"
   ]
  },
  {
   "cell_type": "markdown",
   "metadata": {
    "collapsed": true
   },
   "source": [
    "## <a id=\"tdlambda\"></a>TD($\\lambda$)\n",
    "\n",
    "With MC and TD(0), we have two methods with different features:\n",
    "- TD(0): 1-sample update with bootstrapping\n",
    "- MC: $\\infty$-sample update with no bootstrapping\n",
    "\n",
    "What's inbetween?\n",
    "- inbetween: $n$-sample update with bootstrapping\n",
    "\n",
    "We define the **$n$-step target** or **$n$-step return** $R^{(n)}_t$:\n",
    "\n",
    "$$\n",
    "\\begin{array}{l|l}\n",
    "R_t = r_t + \\gamma r_{t+1} + \\gamma^2 r_{t+2} + \\ldots & \\textrm{MC}\\\\\n",
    "R^{(1)}_t = r_t + \\gamma V_t(s_{t+1}) & 1\\textrm{-step TD = TD(0)}\\\\\n",
    "R^{(2)}_t = r_t + \\gamma r_{t+1} + \\gamma^2 V_t(s_{t+2}) & 2\\textrm{-step TD}\\\\\n",
    "R^{(n)}_t = r_t + \\gamma r_{t+1} + \\gamma^2 r_{t+2} + \\ldots + \\gamma^n V_t(s_{t+n}) & n\\textrm{-step TD}\n",
    "\\end{array}\n",
    "$$\n",
    "\n",
    "And we define the **$n$-step TD update** as:\n",
    "<div class=\"alert alert-success\"><b>$n$-step TD update:<b>\n",
    "$$V(s) \\leftarrow V(s) + \\alpha \\left[ R^{(n)}_t - V(s) \\right]$$\n",
    "</div>\n",
    "\n",
    "So MC corresponds to an $\\infty$-step TD update. The $n$-step TD update algorithm converges to the true $V^\\pi$ just as TD(0) or MC. It requires to wait for $n$ time steps before performing an update.\n",
    "\n",
    "Remark: for finite-length  episodes of length $T$, all $n$-step returns for $n>T-t$ are equal to the Monte Carlo return $R_t$.\n",
    "\n",
    "So $n$-step TD updates bridge a gap between MC and TD(0). But it's not quite satisfying yet because we never really know what value of $n$ is appropriate to speed up convergence for a given problem. An interesting property is that we can mix $n$ and $m$-step returns together. Consider $R^{mix}_t = \\frac{1}{3} R^{(2)}_t + \\frac{2}{3} R^{(4)}_t$.\n",
    "Then the update $V(s_t) \\leftarrow V(s_t) + \\alpha \\left[R^{mix}_t - V(s_t)\\right]$ still converges to $V^\\pi$. More generally, convex sums of $n$-step returns yield update procedures that still converge to $V^\\pi$.\n",
    "\n",
    "Now, take $\\lambda\\in [0,1]$ and consider the $\\lambda$-return $R^\\lambda_t$:\n",
    "<div class=\"alert alert-success\"><b>$\\lambda$-return:</b>\n",
    "$$R^\\lambda_t = \\left(1-\\lambda\\right) \\sum\\limits_{n=1}^\\infty \\lambda^{n-1}R_t^{(n)}$$\n",
    "</div>\n",
    "\n",
    "The $\\lambda$-return is the mixing of *all* $n$-step returns, with weights $(1-\\lambda) \\lambda^{n-1}$. So, an agent performing a $\\lambda$-return update looks one step in the future and uses that step to update $V(s)$ with weight $(1-\\lambda)$, then looks 2 steps into the future and updates $V(s)$ with a weight $\\lambda (1-\\lambda)$ and so on. The illustrative figure below is an excerpt from **Reinforcement Learning: an introduction** by Sutton and Barto.\n",
    "\n",
    "<img src=\"images/TD_lambda_forward.png\"></img>\n",
    "\n",
    "To get a better understanding of the $\\lambda$-return and to set ideas, let us consider a finite length episode $(s_t, r_t, s_{t+1}, \\ldots, s_T)$. Since the episode ends after $T$, we have $\\forall k>0, \\ R^{(T-t+k)}_t = R_t$. Thus, we can split the $\\lambda$-return sum in two:\n",
    "\n",
    "\\begin{align*}\n",
    "R^\\lambda_t & = \\left(1-\\lambda\\right) \\sum\\limits_{n=1}^{T-t-1} \\lambda^{n-1}R_t^{(n)} + \\left(1-\\lambda\\right) \\sum\\limits_{n=T-t}^{\\infty} \\lambda^{n-1}R_t^{(n)}\\\\\n",
    "& = \\left(1-\\lambda\\right) \\sum\\limits_{n=1}^{T-t-1} \\lambda^{n-1}R_t^{(n)} + \\left(1-\\lambda\\right) \\lambda^{T-t-1} \\sum\\limits_{n=T-t}^{\\infty} \\lambda^{n-T+t} R_t^{(n)}\\\\\n",
    "& = \\left(1-\\lambda\\right) \\sum\\limits_{n=1}^{T-t-1} \\lambda^{n-1}R_t^{(n)} + \\left(1-\\lambda\\right) \\lambda^{T-t-1} \\sum\\limits_{k=0}^{\\infty} \\lambda^{k} R_t^{(T-t+k)}\\\\\n",
    "& = \\left(1-\\lambda\\right) \\sum\\limits_{n=1}^{T-t-1} \\lambda^{n-1}R_t^{(n)} + \\lambda^{T-t-1} R_t\\\\\n",
    "\\end{align*}\n",
    "\n",
    "So we have $R^\\lambda_t = \\left(1-\\lambda\\right) \\sum\\limits_{n=1}^{T-t-1} \\lambda^{n-1}R_t^{(n)} + \\lambda^{T-t-1} R_t$.\n",
    "- When $\\lambda = 0$, it is a $TD(0)$ update (hence the \"0\" in TD(0)).\n",
    "- When $\\lambda = 1$, it is a MC update.\n",
    "So we can define the **$\\lambda$-return algorithm** that generalizes on TD(0) and MC:\n",
    "<div class=\"alert alert-success\"><b>$\\lambda$-return algorithm:</b>\n",
    "$$V(s_t) \\leftarrow V(s_t) + \\alpha \\left[R^{\\lambda}_t - V(s_t)\\right] $$\n",
    "</div>\n",
    "\n",
    "That's all very nice and we have replaced the choice of $n$ by the choice of $\\lambda$ that seems less sensitive. But, still, we don't know how to compute those $n$-step returns, and the $\\lambda$-return, without running $n$-step episodes (and thus infinite episodes for the $\\lambda$-return in the general case).\n",
    "\n",
    "This is where we need to flip the little man in the drawing above to make him look backwards in time. When an agent transitions from $s$ to $s'$ and obtains reward $r$, it can compute the $1$-step return for $s$ and perform the corresponding $1$-step TD update. Then, as it transitions from $s'$ to $s''$ and observes $r'$ it can perform the $1$-step TD update in $s'$, but also the $2$-step TD update in $s$! An so on for future transitions. So, incrementally, as time unrolls, the agent will include the $n$-step updates in the $\\lambda$-return of $s$ as they become available. In the limit, when $t\\rightarrow\\infty$, the $\\lambda$-return in every state will be complete and the agent will have completed a $\\lambda$-return algorithm. This figure below (excerpt from **Reinforcement Learning: an introduction** by Sutton and Barto) illustrates this *backward-view* on TD updates.\n",
    "\n",
    "<img src=\"images/TD_lambda_backward.png\"></img>\n",
    "\n",
    "This seems to imply that we need to remember the states we went through, which is quite the same as remembering full episodes for MC updates. But since we want to update a state seen $n$ steps ago with a weight $\\lambda^n (1-\\lambda)$, we just need to remember, for each state, the last time we visited it (and we can forget about the trajectory linking states together). This way, we store $|S|$ values at all time, instead of an increasingly long sequence of transitions. In order to do this, we introduce the notion of **eligibility trace**:\n",
    "<div class=\"alert alert-success\"><b>Eligibility trace of state $s$:</b>\n",
    "$$e_t(s) = \\left\\{\\begin{array}{ll}\n",
    "\\gamma \\lambda e_{t-1}(s) & \\textrm{if }s\\neq s_t\\\\\n",
    "1 & \\textrm{if }s = s_t\n",
    "\\end{array}\\right.$$\n",
    "</div>\n",
    "Initially, all states have an eligibility trace of zero. The eligibility trace of an unvisited state decays exponentially. So $e_t(s)$ measures how old the last visit of $s$ is.<br>\n",
    "<br>\n",
    "Note that two alternative definitions of eligibility traces prevail:\n",
    "<ul>\n",
    "    <li> \"<b>replacing traces</b>\": $e_t(s) = 1\\textrm{ if }s = s_t$\n",
    "    <li> \"<b>accumulating traces</b>\": $e_t(s) = e_{t-1}(s) + 1\\textrm{ if }s = s_t$\n",
    "</ul>\n",
    "Often (not always), replacing traces are used in practice.<br>\n",
    "<br>\n",
    "And finally we can define the TD($\\lambda$) algorithm:\n",
    "<div class=\"alert alert-success\"><b>TD($\\lambda$) algorithm:</b><br>\n",
    "Given a new sample $(s_t,a_t,r_t,s_t')$.\n",
    "<ol>\n",
    "<li> Temporal difference $\\delta = r_t+\\gamma V(s_t') - V(s_t)$.\n",
    "<li> Update eligibility traces for all states<br>\n",
    "$e(s) \\leftarrow \\left\\{\\begin{array}{ll}\n",
    "\\gamma \\lambda e(s) & \\textrm{if } s\\neq s_t\\\\\n",
    "1 & \\textrm{if } s=s_t\n",
    "\\end{array}\\right.$\n",
    "<li> Update all state's values $V(s) \\leftarrow V(s) + \\alpha e(s) \\delta$\n",
    "</ol>\n",
    "Initially, $e(s)=0$.\n",
    "</div>\n",
    "\n",
    "Properties and remarks:\n",
    "- Earlier states are given $e(s)$ *credit* for the TD error $\\delta$\n",
    "- If the environment contains terminal states, then $e$ should be reset to zero whenever a new trajectory begins.\n",
    "- If $\\lambda=0$, $e(s)=0$ except in $s_t$ $\\Rightarrow$ standard TD(0)\n",
    "- For $0<\\lambda<1$, $e(s)$ indicates a distance $s \\leftrightarrow s_t$ is in the episode.\n",
    "- If $\\lambda=1$, $e(s)=\\gamma^\\tau$ where $\\tau=$ duration since last visit to $s_t$ $\\Rightarrow$ MC method<br>\n",
    "TD(1) implements Monte Carlo estimation on non-episodic problems!<br>\n",
    "TD(1) learns incrementally for the same result as MC\n",
    "- **TD($\\lambda$) is equivalent to the $\\lambda$-return algorithm.**\n",
    "- The value of $\\lambda$ can even be changed during the algorithm without impacting convergence.\n",
    "\n",
    "<div class=\"alert alert-warning\"><b>Exercice:</b><br>\n",
    "Implement a TD($\\lambda$) algorithm to estimate $V^\\pi$. As before, take a constant $\\alpha=0.001$ and $\\lambda=0.5$.\n",
    "</div>"
   ]
  },
  {
   "cell_type": "code",
   "execution_count": null,
   "metadata": {},
   "outputs": [],
   "source": [
    "# parameters\n",
    "gamma = 0.9\n",
    "lambd = 0.5\n",
    "alpha = 0.001\n",
    "max_steps = 2000000\n",
    "V = np.zeros((env.observation_space.n))\n",
    "e = np.zeros((env.observation_space.n))\n",
    "\n",
    "# error plotting\n",
    "error = np.zeros((max_steps)) # used to track the convergence to Vtrue\n",
    "\n",
    "x = env.reset()\n",
    "for t in range(max_steps):\n",
    "    y,r,d,_ = env.step(fl.RIGHT)\n",
    "    delta = r+gamma*V[y]-V[x]\n",
    "    for s in range(env.observation_space.n):\n",
    "        if s==x:\n",
    "            e[s] = 1\n",
    "        else:\n",
    "            e[s] = e[s]*gamma*lambd\n",
    "        V[s] = V[s] + alpha * e[s] * delta\n",
    "    error[t] = np.max(np.abs(V-Vtrue))\n",
    "    if d==True:\n",
    "        x = env.reset()\n",
    "        e = np.zeros((env.observation_space.n))\n",
    "    else:\n",
    "        x=y\n",
    "\n",
    "print(V)\n",
    "print(Vtrue)\n",
    "plt.plot(error)\n",
    "plt.figure()\n",
    "plt.semilogy(error);"
   ]
  },
  {
   "cell_type": "markdown",
   "metadata": {},
   "source": [
    "## <a id=\"predsummary\"></a>Summary\n",
    "\n",
    "- Prediction = evaluation of a given behaviour\n",
    "- Model-based prediction\n",
    "- Monte Carlo (offline and online)\n",
    "- Temporal Differences, TD(0)\n",
    "- Unifying MC and TD: TD($\\lambda$)"
   ]
  },
  {
   "cell_type": "markdown",
   "metadata": {},
   "source": [
    "# <a id=\"approx\"></a>Value Function approximation\n",
    "\n",
    "If this is the first time you read this notebook, this part can be skipped (but please come back later, it's still quite important).\n",
    "\n",
    "Often, $S$ is not finite (or is just too large to be enumerated). Consequently, $\\mathcal{F}(S,\\mathbb{R})$ has infinite (or just too large) dimension. Thus, tabular representations of $V$ are not possible and one needs to turn to the function representation $V_\\theta$ with parameters $\\theta$. In this section, we work our way through approximation methods for $V$.\n",
    "\n",
    "The FrozenLake example is a toy problem with very few states (moreover discrete). It does not lend itself to a convincing demonstration of value function approximation. We shall remain at the theoretical level for the following considerations and reserve practice for later."
   ]
  },
  {
   "cell_type": "markdown",
   "metadata": {},
   "source": [
    "## <a id=\"linear\"></a>Linear value function approximation\n",
    "\n",
    "Suppose we write $V$ as a linear model:\n",
    "$$V(s) = \\theta^T \\varphi(s) = \\sum_{i=1}^K \\theta_i \\varphi_i(s)$$\n",
    "\n",
    "We wish to approximate $V(s)$ as a linear combination of features $\\varphi(s)=\\left(\\varphi_i(s)\\right)_{i\\in[1,K]}$. This way, $V$ lives in the $K$-dimensional function space $span(\\varphi)$. We have plenty of families of functions that we can rely on and the user's expertise plays a big role in choosing a proper **functional basis**. Generally speaking, we would expect the following properties from a good basis:\n",
    "- the target $V^\\pi$ can be closely approximated by its projection on $\\varphi$\n",
    "- given an initial $V_0 \\in span(\\varphi)$ and the recurrence relation $V_{n+1} = \\Pi_\\varphi (T^\\pi V_n)$ (where $\\Pi_\\varphi$ is the projection operator on $span(\\varphi)$), $V_n$ should be a \"close enough\" approximation of $T^\\pi V_n$. This property is illustrated by the figure below (for $Q$ instead of $V$ - excerpt from Lagoudakis and Parr, 03).\n",
    "- $\\varphi$ should form a basis (that is $\\varphi_i \\bot \\varphi_j$)\n",
    "\n",
    "<img src=\"images/projection.png\" style=\"width: 600px;\"></img>\n",
    "\n",
    "If $\\sum_{i=1}^K \\varphi_i(s) = 1$, then $V_\\theta$ is called an *averager*. Averagers are known to be well-behaved for iterative function approximation. Otherwise, other non-averager, families of functions are commonly used:\n",
    "\n",
    "- $\\cos$, $\\sin$ over state variables (mimics the Fourier transform, extends to wavelet bases)\n",
    "- polynomials of the state variables (mimics the Taylor expansion)\n",
    "- radial basis functions of the state variables (performs local approximation, extends to kernel smoothing).\n",
    "- among averagers, piecewise constant local functions $\\varphi_i(s) \\in \\{0;1\\}$ group *neighborhoods* in the state space together (note the similarity with tree-based regressors).\n",
    "\n",
    "A very straightforward way of building feature sets is to define features depending on a single state variable and then using the tensor product in order to obtain all possible combinations of sigle-variable features. More formally and more generally, suppose $S \\subset S_1\\times \\ldots \\times S_k$ and suppose $\\varphi^{(i)}$ defines $d_i$ features over $S_k$; then the tensor product $\\varphi^{(1)} \\otimes \\ldots \\otimes \\varphi^{(k)}$ yields $d=d_1\\ldots d_k$ feature functions on $S$. But there is a catch, the number of these resulting features grows exponentially with $k$ and so does the dimension of the value function's search space $span(\\varphi)$: that is the **curse of dimensionality** that makes searching for a value function exponentially more difficult as the state space dimension grows.\n",
    "\n",
    "Additionnaly, there is **no guarantee** that, for a given $V_n \\in span(\\varphi)$, $T^\\pi V_n$ actually lives in $span(\\varphi)$.\n",
    "\n",
    "But on the bright side, given an initial state $s_0$, the actual reachable space $S'$ given $\\pi$ might be much smaller than $S$. So, in practice, we just need to obtain a good approximation of $V$ on the subspace $S'$ (a manifold of $S$).\n",
    "\n",
    "Anyway, to conclude this short paragraph on feature engineering:\n",
    "- good feature engineering in RL is even more crucial than in supervized learning.\n",
    "- it can be very problem-dependent.\n",
    "- good function approximators (generally non-parametric to avoid the fixed $span(\\varphi)$) are of crucial importance.\n",
    "We will discuss non-linear and non-parametric function approximation a bit further in the notebook."
   ]
  },
  {
   "cell_type": "markdown",
   "metadata": {},
   "source": [
    "## <a id=\"tab\"></a>The tabular case is just a specific case of linear model\n",
    "\n",
    "In the discrete state space case, consider the averager defined as:\n",
    "$$\\varphi_i(s) = \\left\\{\\begin{array}{ll}1 & \\textrm{if }s=s_i\\\\ 0 & \\textrm{otherwise}\\end{array}\\right.$$\n",
    "Feature function $\\varphi_i$ is the indicator function of state $s_i$. Therefore, we have $|S|$ feature functions. So when we write $V(s) = \\sum_{i=1}^{|S|} \\theta_i \\varphi_i(s)$, we actually have $V(s_i) = \\theta_i$. Therefore the tabular representation of $V$ is equivalent to a linear model with the $\\varphi_i$ feature functions.\n",
    "\n",
    "Based on the previous remark, let us rewrite TD($\\lambda$) as a linear model update (we take the accumulating traces version; the replacing traces case is equivalent). We had previously:<br>\n",
    "Given a new sample $(s_t,a_t,r_t,s_t')$.\n",
    "<ol>\n",
    "<li> Temporal difference $\\delta = r_t+\\gamma V(s_t') - V(s_t)$.\n",
    "<li> Update eligibility traces for all states<br>\n",
    "$e(s) \\leftarrow \\left\\{\\begin{array}{ll}\n",
    "\\gamma \\lambda e(s) & \\textrm{if } s\\neq s_t\\\\\n",
    "1 + \\gamma \\lambda e(s)& \\textrm{if } s=s_t\n",
    "\\end{array}\\right.$\n",
    "<li> Update all state's values $V(s) \\leftarrow V(s) + \\alpha e(s) \\delta$\n",
    "</ol>\n",
    "Initially, $e(s)=0$.\n",
    "\n",
    "The temporal difference can be rewritten $\\delta = r_t+\\gamma\\theta^T \\varphi(s_t') - \\theta^T \\varphi(s_t)$.\n",
    "\n",
    "The eligibility trace update can be rewritten $e \\leftarrow \\varphi(s) + \\gamma \\lambda e$.\n",
    "\n",
    "Similarly the value update can be rewritten $\\theta \\leftarrow \\theta + \\alpha e \\delta$."
   ]
  },
  {
   "cell_type": "markdown",
   "metadata": {},
   "source": [
    "## <a id=\"param\"></a>TD($\\lambda$) as a parametric model update\n",
    "\n",
    "We generalize the previous result to the general linear model case:\n",
    "<div class=\"alert alert-success\"><b>TD($\\lambda$) with linear model approximation:</b><br>\n",
    "With $V(s) = \\sum_{i=1}^K \\theta_i \\varphi_i(s)$, $e \\in \\mathbb{R}^K$.<br>\n",
    "Initially, $e=0$.<br>\n",
    "Given a new sample $(s_t,a_t,r_t,s_t')$.\n",
    "<ol>\n",
    "<li> Temporal difference $\\delta = r_t+\\gamma\\theta^T \\varphi(s_t') - \\theta^T \\varphi(s_t)$.\n",
    "<li> Update eligibility traces for all states $e \\leftarrow \\varphi(s) + \\gamma \\lambda e$\n",
    "<li> Update value function $\\theta \\leftarrow \\theta + \\alpha e \\delta$\n",
    "</ol>\n",
    "</div>\n",
    "\n",
    "And finally, we can further generalize the TD($\\lambda$) update above to the general case of a parametric (not necessarily linear) function approximation $V_\\theta$:\n",
    "<div class=\"alert alert-success\"><b>TD($\\lambda$) with parametric function approximation:</b><br>\n",
    "With $V(s) = V_\\theta(s), \\theta \\in \\mathbb{R}^K$, $e \\in \\mathbb{R}^K$.<br>\n",
    "Initially, $e=0$.<br>\n",
    "Given a new sample $(s_t,a_t,r_t,s_t')$.\n",
    "<ol>\n",
    "<li> Temporal difference $\\delta = r_t+\\gamma V_\\theta(s_t') - V_\\theta(s_t)$.\n",
    "<li> Update eligibility traces for all states $e \\leftarrow \\nabla_\\theta V_\\theta(s) + \\gamma \\lambda e$\n",
    "<li> Update value function $\\theta \\leftarrow \\theta + \\alpha e \\delta$\n",
    "</ol>\n",
    "</div>\n",
    "\n",
    "Note that we have provided the results above without proof. We will admit them and refer the reader to RL textbooks for a rigorous justification."
   ]
  },
  {
   "cell_type": "markdown",
   "metadata": {},
   "source": [
    "## <a id=\"nonparam\"></a>Non-parametric models\n",
    "\n",
    "Non-parametric models generally refer to function approximators that do not rely on an a-priori fixed finite-dimensional search space and allows the representation space to evolve as needed. Among those non-parametrics models, one can count:\n",
    "- linear approximations that incrementally enrich the functional basis.\n",
    "- general supervised learning methods: SVMs, k-nearest neighbours (kernel smoothing methods), Gaussian Processes, tree-based methods, neural networks, etc.\n",
    "\n",
    "One quickly realizes that the frontier between parametric and non-parametric models is blur. The TD($\\lambda$) update above actually holds for most methods for which a finite dimensional parameter vector $\\theta$ exists (even though the function search space changes). In the general case of a $s \\mapsto V(s)$ function approximator, the general idea is to feed this approximator with samples of the form $(s, r+\\gamma V(s'))$.\n",
    "\n",
    "## <a id=\"conc-FA\"></a>Conclusion on function approximation\n",
    "\n",
    "To conclude this overview of value function approximation issues. We make the following remarks:\n",
    "- TD($\\lambda$) is an on-policy method.<br>\n",
    "Indeed, it evaluates the policy currently applied. But one could wonder: could I apply some policy and still evaluate another one. It appears this question is non-trivial and a direct extension of TD($\\lambda$) to the off-policy case is actually non-convergent. This was solved after 2009 by the family of **Gradient temporal difference learning** algorithms.\n",
    "- TD methods solve the $V = T^\\pi V$ equation.<br>\n",
    "Then, one could see those methods as algorithms that incrementally minimize $\\|V-T^\\pi V\\|^2$, that is, least squares minimizers. This leads to the (vast) family of **Least Squares methods** that often provide good stability and accuracy properties at the cost of increased computational requirements."
   ]
  },
  {
   "cell_type": "code",
   "execution_count": null,
   "metadata": {},
   "outputs": [],
   "source": []
  }
 ],
 "metadata": {
  "kernelspec": {
   "display_name": "Python 3",
   "language": "python",
   "name": "python3"
  },
  "language_info": {
   "codemirror_mode": {
    "name": "ipython",
    "version": 3
   },
   "file_extension": ".py",
   "mimetype": "text/x-python",
   "name": "python",
   "nbconvert_exporter": "python",
   "pygments_lexer": "ipython3",
<<<<<<< HEAD
   "version": "3.7.3"
=======
   "version": "3.6.9"
>>>>>>> c0e693d095f603cfdbf26b3d1a8a2ca71c54d7c8
  },
  "toc": {
   "base_numbering": 1,
   "nav_menu": {},
   "number_sections": true,
   "sideBar": false,
   "skip_h1_title": false,
   "title_cell": "Table of Contents",
   "title_sidebar": "Contents",
   "toc_cell": false,
   "toc_position": {
    "height": "47.7167px",
    "left": "1170px",
    "top": "32.5667px",
    "width": "159px"
   },
   "toc_section_display": false,
   "toc_window_display": true
  }
 },
 "nbformat": 4,
 "nbformat_minor": 2
}
