{
 "cells": [
  {
   "cell_type": "markdown",
   "metadata": {},
   "source": [
    "**Class 3: Control problems, model-free Policy Optimization.**\n",
    "\n",
    "1. [Everything you need to know](#everything)\n",
    "2. [General view on policy optimization: Generalized Policy Iteration and Actor-Critic architectures](#GPI)\n",
    "3. [Online problems, the exploration vs. exploitation dilemma](#online)\n",
    "    1. [SARSA](#sarsa)\n",
    "    2. [Q-learning](#qlearning)\n",
    "    3. [Going further with SARSA and Q-learning](#further)\n",
    "4. [Interactive problems](#interactive)\n",
    "5. [Offline problems, focussing on the critic alone](#offline)\n",
    "    1. [Fitted Q-iteration](#fqi)\n",
    "    2. [Least Squares Policy Iteration](#lspi)"
   ]
  },
  {
   "cell_type": "markdown",
   "metadata": {},
   "source": [
    "Il y a 10ans : l'algorithme le plus connu/important est le Q learning. \n",
    "Aujourd'hui SARSA est important aussi"
   ]
  },
  {
   "cell_type": "markdown",
   "metadata": {},
   "source": [
    "# <a id=\"everything\"></a>Everything you need to know\n",
    "\n",
    "Everything you should remember after this session.<br>\n",
    "<br>\n",
    "<div class=\"alert alert-success\">\n",
    "<ul>\n",
    "<li> Generalized Policy Iteration: perform sample-based policy evaluation and policy improvement, directly from samples (not from the model anymore), converge to $Q^*$ and $\\pi^*$\n",
    "<li> Actor-critic architecture: the actor chooses an action based on the current state and the information provided by the critic, while the critic constantly aims at learning relevant things in order to help the actor decide (value functions for example, or an approximate model).\n",
    "<li>A GLIE actor guarantees that, as $t\\rightarrow\\infty$, 1) all state-action pairs $(s,a)$ are visited infinitely often for $Q$-updates of the critic and 2) the actor's policy $\\pi$ becomes $Q$-greedy.\n",
    "<li>SARSA. Initialize : in $s$, choose (*actor*) $a$ using $Q$, then repeat:\n",
    "<ol>\n",
    "<li> Observe $r$, $s'$\n",
    "<li> Choose $a'$ (<i>GLIE actor<i>) using $Q$\n",
    "<li> Temporal difference: $\\delta=r+\\gamma Q(s',a') - Q(s,a)$\n",
    "<li> Update $Q$: $Q(s,a) \\leftarrow Q(s,a) + \\alpha \\delta$\n",
    "<li> $s\\leftarrow s'$, $a\\leftarrow a'$\n",
    "</ol>\n",
    "<li>Q-learning.\n",
    "<ol>\n",
    "<li> In $s$, choose $a$ (<i>GLIE actor<i>)\n",
    "<li> Observe $r$, $s'$\n",
    "<li> Temporal difference: $\\delta=r+\\gamma \\max_{a'} Q(s',a') - Q(s,a)$\n",
    "<li> Update $Q$: $Q(s,a) \\leftarrow Q(s,a) + \\alpha \\delta$\n",
    "<li> $s\\leftarrow s'$\n",
    "</ol>\n",
    "<li> Fitted Q-iteration (offline learning). For $i=1$ to $N$:\n",
    "<ol>\n",
    "<li> For each sample $(s,a,r,s')$, define $(x,y)$ with:<br>\n",
    "$x = (s,a)$<br>\n",
    "$y = r + \\gamma \\max_{a'} Q_{i-1}(s',a')$<br>\n",
    "Call $\\mathcal{T}$ the training set $\\left\\{(x,y)\\right\\}$\n",
    "<li> $Q_i$ = fit_model$(\\mathcal{T})$\n",
    "</ol>\n",
    "<li> Least Squares Policy Iteration (LSPI) uses the LSTD$Q$ (Least Squares Temporal Differences on $Q$ functions) procedure to approximate the $Q$ function of the current policy, using a set of feature functions $\\varphi$, then replaces the current policy with the $Q$-greedy policy and iterates until convergence.\n",
    "<li> LSTD$Q$ (incremental version):<br>\n",
    "$\\tilde{B} = \\frac{1}{\\delta}I$ with $\\delta$ a small positive value.<br>\n",
    "$\\tilde{b} = 0$<br>\n",
    "For each $(s,a,r,s') \\in \\mathcal{D}$:<br>\n",
    "&nbsp;&nbsp;&nbsp;&nbsp;&nbsp;&nbsp; $\\tilde{B} \\leftarrow \\tilde{B} - \\frac{B \\varphi(s,a) \\left( \\varphi(s,a) - \\gamma\\varphi(s',\\pi(s')) \\right)^T B}{1 + \\left( \\varphi(s,a) - \\gamma\\varphi(s',\\pi(s')) \\right)^T B \\varphi(s,a)} $<br>\n",
    "&nbsp;&nbsp;&nbsp;&nbsp;&nbsp;&nbsp; $\\tilde{b} \\leftarrow \\tilde{b} + \\varphi(s,a) r$<br>\n",
    "return $w_\\pi = \\tilde{B} b$\n",
    "</ul>\n",
    "</div>\n",
    "\n",
    "Of course, all this seems very obscure right now and the block above will only serve as a reminder when you re-open the notebook later. We will introduce every concept intuitively and progessively."
   ]
  },
  {
   "cell_type": "markdown",
   "metadata": {},
   "source": [
    "# <a id=\"gpi\"></a>General view on policy optimization: Generalized Policy Iteration and Actor-Critic architectures\n",
    "\n",
    "Remember how we went from Policy Iteration (figure below) to Asynchronous Policy Iteration?\n",
    "<img src=\"images/policyiteration.png\"></img>\n",
    "<br>\n",
    "<br>\n",
    "Si l'optimum a été trouvé pour une étape, on peut ne plus évaluer cette étape\n",
    "\n",
    "<br>\n",
    "<br>\n",
    "\n",
    "Now recall the principle of Asynchronous Policy Iteration. If we consider the two elementary operations:\n",
    "- Bellman backup on $Q$: $Q(s,a) \\leftarrow r(s,a) + \\gamma \\sum\\limits_{s'} p(s'|s,a) Q(s',\\pi(s'))$\n",
    "- Bellman backup on $\\pi$: $\\pi(s) \\leftarrow \\arg\\max_{a} Q(s,a)$\n",
    "\n",
    "Then, as long as every state and every action is visited infinitely often for Bellman backups on $Q$ or $\\pi$, the sequences of $Q_n$ and $\\pi_n$ converge to $Q^*$ and $\\pi^*$.\n",
    "\n",
    "Value Iteration: in each state, one update of $Q$ and one improvement of $\\pi$.<br>\n",
    "Policy Iteration: update $Q$ in all states until convergence, then update $\\pi$ in all states.\n",
    "\n",
    "**Generalized Policy Iteration** is the case where one has two interacting processes: policy evaluation and policy improvement, directly from samples (not from the model anymore). If these processes converge to their respective targets, then Generalized Policy Iteration converges to $Q^*$ and $\\pi^*$. Model-free policy evaluation can take many forms: indirect RL, Monte Carlo evaluations, TD methods...\n",
    "\n",
    "This leads to the definition of the general **actor-critic architectures** (excerpt from **Algorithms for Reinforcement Learning** by C. Szepesvari):\n",
    "\n",
    "<img src=\"images/actor-critic.png\"  style=\"width: 500px;\"></img>\n",
    "\n",
    "In such architectures, an *actor* chooses an action based on the current state and the information provided by the *critic*, while the *critic* constantly aims at learning relevant things in order to help the *actor* decide (value functions for example, or an approximate model).\n",
    "\n",
    "Almost all Reinforcement Learning algorithms fall into an actor-critic architecture. The following sections separate the search for optimal policies / value functions into two distinct contexts:\n",
    "<ul>\n",
    "<li> Online interaction. The actor needs to balance exploration of new state-action pairs with the exploitation of those which are already known to be good (in order to guide the agent along reward-providing trajectories and to refine the knowledge of the value function around these trajectories). The critic aims at providing the best evaluation of state-action pairs to the actor. In this context, we derive two algorithms:\n",
    "<ul>\n",
    "<li>SARSA, where the critic evaluates the current policy being applied.\n",
    "<li>Q-learning, where the critic evaluates the optimal policy.<br>\n",
    "</ul>\n",
    "In particular, online learning is characterized by the fact that the agent chooses the action to perform, but is constrained by the state dynamics and thus does not choose the states to sample. One can think of this case as the direct interaction with an environment.\n",
    "<li> Interactive problems. These only differ from the online case by the fact that both sampled states and actions can be controled by the learning process. Think of this case as one where one has a simulator and can choose to reset it to any state before deciding on the action to undertake.\n",
    "<li> Offline policy search. In this case, there simply is no actor and the problem boils down to designing a critic that provides $Q^*$. For this problem, we explore two generalizations of Value Iteration and Policy Iterations, respectively:\n",
    "<ul>\n",
    "<li>Fitted Q-Iteration\n",
    "<li>Least Squares Policy Iteration\n",
    "</ul>\n",
    "</ul>"
   ]
  },
  {
   "cell_type": "markdown",
   "metadata": {},
   "source": [
    "# <a id=\"online\"></a>Online problems, the exploration vs. exploitation dilemma\n",
    "\n",
    "In the class on value estimation problems, we introduced temporal differences algorithms such as TD(0), so we have a way to evaluate policies. But now, we are not looking for $V^\\pi$ anymore (or $Q^\\pi$), but for $Q^*$. Let's recall TD(0) on $Q$ functions. <br>\n",
    "Given a sample $(s,a,r,s')$:\n",
    "$$Q(s,a) \\leftarrow Q(s,a) + \\alpha \\left( r + \\gamma Q(s',\\pi(s')) - Q(s,a) \\right)$$\n",
    "Recall that for this update to converge, we need samples for all state-action pairs $(s,a)$.\n",
    "\n",
    "Using TD(0) (or a Monte Carlo estimator), we could easily design an approximate policy iteration algorithm that evaluates $\\pi$ for a certain time, yielding a value function $Q$, then replaces $\\pi$ with the $Q$-greedy policy and starts over. So the key question becomes knowing when to switch from evaluation of $\\pi$ to improvement. As we have seen in Generalized Policy Iteration, we can interleave those two processes.\n",
    "\n",
    "For an agent interacting with a new, unknown environment, let's first learn the $Q$-function of a given policy $\\pi$. The key problem is to insure all state-action pairs will be sampled. To do this, we can make an **ergodocity** assumption on our MDP, that is we can suppose that each state is reachable from any other (non-terminal) state with non-zero probability. Therefore, acting randomly insures exploration of all state-action pairs.<br>\n",
    "<br>\n",
    "<div class=\"alert alert-warning\"><b>Exercice:</b><br>\n",
    "Let's implement that on the policy that always goes right in the FrozenLake environment.\n",
    "<ul>\n",
    "<li> We will start by using the class on MDPs to obtain the true value of $Q^\\pi$.\n",
    "<li> We will also reproduce the TD(0) estimation of $V^\\pi$ from the class on value estimation.\n",
    "<li> Then we will use it to initialize $Q$ and implement the TD(0) update that converges to $Q^\\pi$.\n",
    "</ul>\n",
    "As before, to keep things simple, we set $\\alpha=0.001$ and we take $\\gamma=0.9$.\n",
    "</div>"
   ]
  },
  {
   "cell_type": "code",
<<<<<<< HEAD
   "execution_count": 1,
   "metadata": {
    "ExecuteTime": {
     "end_time": "2020-02-03T15:24:49.224889Z",
     "start_time": "2020-02-03T15:24:48.884038Z"
    }
   },
=======
   "execution_count": null,
   "metadata": {},
>>>>>>> c0e693d095f603cfdbf26b3d1a8a2ca71c54d7c8
   "outputs": [],
   "source": [
    "import gym\n",
    "import gym.envs.toy_text.frozen_lake as fl\n",
    "import numpy as np\n",
    "%matplotlib inline\n",
    "import matplotlib.pyplot as plt\n",
    "np.set_printoptions(precision=3)"
   ]
  },
  {
   "cell_type": "code",
   "execution_count": 3,
   "metadata": {
<<<<<<< HEAD
    "ExecuteTime": {
     "end_time": "2020-02-03T15:27:06.102855Z",
     "start_time": "2020-02-03T15:27:06.096580Z"
    },
=======
>>>>>>> c0e693d095f603cfdbf26b3d1a8a2ca71c54d7c8
    "scrolled": false
   },
   "outputs": [],
   "source": [
    "env = gym.make('FrozenLake-v0')\n",
    "actions = {fl.LEFT: '\\u2190', fl.DOWN: '\\u2193', fl.RIGHT: '\\u2192', fl.UP: '\\u2191'}"
   ]
  },
  {
   "cell_type": "code",
<<<<<<< HEAD
   "execution_count": 4,
   "metadata": {
    "ExecuteTime": {
     "end_time": "2020-02-03T15:28:04.688031Z",
     "start_time": "2020-02-03T15:28:04.031590Z"
    }
   },
   "outputs": [
    {
     "name": "stdout",
     "output_type": "stream",
     "text": [
      "Qtrue:\n",
      " [[0.013 0.013 0.013 0.011]\n",
      " [0.007 0.012 0.012 0.016]\n",
      " [0.031 0.023 0.027 0.012]\n",
      " [0.008 0.008 0.    0.008]\n",
      " [0.024 0.02  0.019 0.009]\n",
      " [0.    0.    0.    0.   ]\n",
      " [0.064 0.056 0.064 0.008]\n",
      " [0.    0.    0.    0.   ]\n",
      " [0.02  0.059 0.049 0.064]\n",
      " [0.105 0.161 0.146 0.071]\n",
      " [0.23  0.211 0.186 0.063]\n",
      " [0.    0.    0.    0.   ]\n",
      " [0.    0.    0.    0.   ]\n",
      " [0.134 0.257 0.301 0.211]\n",
      " [0.313 0.59  0.556 0.479]\n",
      " [0.    0.    0.    0.   ]]\n",
      "number of iterations: 18\n",
      "Vtrue:\n",
      " [0.013 0.012 0.027 0.    0.019 0.    0.064 0.    0.049 0.146 0.186 0.\n",
      " 0.    0.301 0.556 0.   ]\n"
     ]
    },
    {
     "data": {
      "image/png": "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\n",
      "text/plain": [
       "<Figure size 432x288 with 1 Axes>"
      ]
     },
     "metadata": {
      "needs_background": "light"
     },
     "output_type": "display_data"
    },
    {
     "data": {
      "image/png": "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\n",
      "text/plain": [
       "<Figure size 432x288 with 1 Axes>"
      ]
     },
     "metadata": {
      "needs_background": "light"
     },
     "output_type": "display_data"
    }
   ],
=======
   "execution_count": null,
   "metadata": {},
   "outputs": [],
>>>>>>> c0e693d095f603cfdbf26b3d1a8a2ca71c54d7c8
   "source": [
    "# Policy definition and parameters\n",
    "pi0 = fl.RIGHT*np.ones((env.observation_space.n),dtype=np.int)\n",
    "gamma = 0.9\n",
    "alpha = 0.001\n",
    "\n",
    "# Model based evaluation\n",
    "def policy_Qeval_iter(pi, epsilon, max_iter):\n",
    "    Q1 = np.zeros((env.observation_space.n, env.action_space.n))\n",
    "    Q2 = np.zeros((env.observation_space.n, env.action_space.n))\n",
    "    residuals = np.zeros((max_iter))\n",
    "    for i in range(max_iter):\n",
    "        for x in range(env.observation_space.n):\n",
    "            for a in range(env.action_space.n):\n",
    "                Q2[x][a] = 0\n",
    "                outcomes = env.unwrapped.P[x][a]\n",
    "                for o in outcomes:\n",
    "                    p = o[0]\n",
    "                    y = o[1]\n",
    "                    r = o[2]\n",
    "                    Q2[x][a] += p * (r + gamma*Q1[y][pi[y]])\n",
    "        residuals[i] = np.max(np.abs(Q2-Q1))\n",
    "        Q1[:] = Q2\n",
    "        if residuals[i]<epsilon:\n",
    "            residuals = residuals[:i+1]\n",
    "            break\n",
    "    return Q1, residuals\n",
    "\n",
    "Qpi0true, residuals = policy_Qeval_iter(pi0,1e-4,10000)\n",
    "print(\"Qtrue:\\n\", Qpi0true)\n",
    "print(\"number of iterations:\", residuals.size)\n",
    "plt.plot(residuals)\n",
    "plt.figure()\n",
    "plt.semilogy(residuals)\n",
    "\n",
    "Vpi0true = np.zeros((env.observation_space.n))\n",
    "for x in range(env.observation_space.n):\n",
    "    Vpi0true[x] = Qpi0true[x][pi0[x]]\n",
    "print(\"Vtrue:\\n\", Vpi0true)"
   ]
  },
  {
   "cell_type": "code",
<<<<<<< HEAD
   "execution_count": 5,
   "metadata": {
    "ExecuteTime": {
     "end_time": "2020-02-03T15:29:21.791103Z",
     "start_time": "2020-02-03T15:29:07.378866Z"
    }
   },
   "outputs": [
    {
     "name": "stdout",
     "output_type": "stream",
     "text": [
      "[0.012 0.011 0.026 0.    0.017 0.    0.06  0.    0.048 0.143 0.178 0.\n",
      " 0.    0.293 0.557 0.   ]\n",
      "[0.013 0.012 0.027 0.    0.019 0.    0.064 0.    0.049 0.146 0.186 0.\n",
      " 0.    0.301 0.556 0.   ]\n"
     ]
    },
    {
     "data": {
      "image/png": "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\n",
      "text/plain": [
       "<Figure size 432x288 with 1 Axes>"
      ]
     },
     "metadata": {
      "needs_background": "light"
     },
     "output_type": "display_data"
    },
    {
     "data": {
      "image/png": "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\n",
      "text/plain": [
       "<Figure size 432x288 with 1 Axes>"
      ]
     },
     "metadata": {
      "needs_background": "light"
     },
     "output_type": "display_data"
    }
   ],
=======
   "execution_count": null,
   "metadata": {},
   "outputs": [],
>>>>>>> c0e693d095f603cfdbf26b3d1a8a2ca71c54d7c8
   "source": [
    "# TD(0) evaluation of Vpi\n",
    "def TD_Veval(pi, max_steps, V=None, Vtrue=None):\n",
    "    if(V is None):\n",
    "        V = np.zeros((env.observation_space.n))\n",
    "    error = np.zeros((max_steps))\n",
    "    x = env.reset()\n",
    "    for t in range(max_steps):\n",
    "        y,r,d,_ = env.step(pi[x])\n",
    "        V[x] = V[x] + alpha * (r+gamma*V[y]-V[x])\n",
    "        if(Vtrue is not None):\n",
    "            error[t] = np.max(np.abs(V-Vtrue))\n",
    "        if d==True:\n",
    "            x = env.reset()\n",
    "        else:\n",
    "            x=y\n",
    "    return V, error\n",
    "\n",
    "Vpi0, error = TD_Veval(pi0, 1000000, Vtrue=Vpi0true)\n",
    "print(Vpi0)\n",
    "print(Vpi0true)\n",
    "plt.plot(error)\n",
    "plt.figure()\n",
    "plt.semilogy(error);"
   ]
  },
  {
   "cell_type": "code",
   "execution_count": 6,
   "metadata": {
<<<<<<< HEAD
    "ExecuteTime": {
     "end_time": "2020-02-03T15:31:15.946881Z",
     "start_time": "2020-02-03T15:30:07.271960Z"
    },
    "scrolled": false
=======
    "scrolled": true
>>>>>>> c0e693d095f603cfdbf26b3d1a8a2ca71c54d7c8
   },
   "outputs": [
    {
     "name": "stdout",
     "output_type": "stream",
     "text": [
      "Max error: 0.008490408667682664\n"
     ]
    },
    {
     "data": {
      "image/png": "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\n",
      "text/plain": [
       "<Figure size 432x288 with 1 Axes>"
      ]
     },
     "metadata": {
      "needs_background": "light"
     },
     "output_type": "display_data"
    },
    {
     "data": {
      "image/png": "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\n",
      "text/plain": [
       "<Figure size 432x288 with 1 Axes>"
      ]
     },
     "metadata": {
      "needs_background": "light"
     },
     "output_type": "display_data"
    }
   ],
   "source": [
    "# TD(0) evaluation of Qpi\n",
    "Qpi0 = np.transpose(np.tile(Vpi0, (4,1)))\n",
    "\n",
    "def TD_Qeval(pi, max_steps, Q=None, Qtrue=None):\n",
    "    error = np.zeros((max_steps))\n",
    "    if (Q is None):\n",
    "        Q = np.zeros((env.observation_space.n, env.action_space.n))\n",
    "    x = env.reset()\n",
    "    for t in range(max_steps):\n",
    "        a = np.random.randint(4)\n",
    "        y,r,d,_ = env.step(a)\n",
    "        Q[x][a] = Q[x][a] + alpha * (r+gamma*Q[y][pi[y]]-Q[x][a])\n",
    "        if(Qtrue is not None):\n",
    "            error[t] = np.max(np.abs(Q-Qtrue))\n",
    "        if d==True:\n",
    "            x = env.reset()\n",
    "        else:\n",
    "            x=y\n",
    "    return Q, error\n",
    "\n",
    "Qpi0, error = TD_Qeval(pi0,3000000,Qpi0,Qpi0true)\n",
    "print(\"Max error:\", np.max(np.abs(Qpi0-Qpi0true)))\n",
    "plt.plot(error)\n",
    "plt.figure()\n",
    "plt.semilogy(error);"
   ]
  },
  {
   "cell_type": "markdown",
   "metadata": {},
   "source": [
    "So we have a way of evaluating $Q^\\pi$. But we're interested in $Q^*$. Let's use the idea of Generalized Policy Iteration and include, inside the TD(0) loop above, the policy improvement phase $\\pi(s) \\leftarrow \\arg\\max_a Q(s,a)$. This means that at each time step, instead of evaluating the temporal difference for a fixed policy $\\pi$, we evaluate a policy that is $Q$-greedy. According to the convergence property of Generalized Policy Iteration, this should converge to $Q^*$. But then again, the policy applied by our agent remains totally random so it clearly does not converge to $\\pi^*$. To solve this issue we introduce the notion of **Greedy in the limit of infinite exploration** (GLIE) actor:<br>\n",
    "<br>\n",
    "<div class=\"alert alert-success\"><b>Greedy in the limit of infinite exploration</b> (GLIE) actor:<br>\n",
    "A GLIE actor guarantees that:<br>\n",
    "- All state-action pairs $(s,a)$ are visited infinitely often for updates of $Q$, as $t\\rightarrow\\infty$:\n",
    "$$\\lim_{t\\rightarrow\\infty} count_t(s,a) = \\infty$$\n",
    "- As $t\\rightarrow\\infty$ the actor becomes $Q$-greedy, that is:\n",
    "$$\\lim_{t\\rightarrow\\infty} \\pi_t(a|s) = \\mathbb{1}\\left(a = \\arg\\max_{\\hat{a}} Q(s,\\hat{a})\\right)$$\n",
    "</div>\n",
    "\n",
    "An example of GLIE actor is the so-called $\\epsilon$-greedy exploration strategy that uniformly picks a non-greedy action with probability $\\epsilon$:\n",
    "$$\\pi_t(a|s) = \\left\\{\\begin{array}{ll}1-\\epsilon_t & \\textrm{if }a=\\arg\\max_{\\hat{a}} Q(s,\\hat{a})\\\\\n",
    "\\frac{\\epsilon_t}{|A|-1} & \\textrm{otherwise} \\end{array}\\right.$$\n",
    "With a parameter $\\epsilon_t>0$ that goes to zero as $t$ tends to $\\infty$, one obtains a GLIE actor.\n",
    "\n",
    "GLIE actors (or policies) enforce the limits of the **exploration vs. exploitation compromise**. As long as actors respect the GLIE properties, actor-critic architectures fall within the convergence properties of Generalized Policy Iteration.\n",
    "\n",
    "With this last definition, we have all the ingredients to define algorithms that evolve to an optimal behaviour.\n",
    "\n",
    "<a href=\"#GLIEremark\" data-toggle=\"collapse\"> A remark</a><br>\n",
    "<div id=\"GLIEremark\" class=\"collapse\">\n",
    "You might have noticed that the totally random policy we applied in the TD(0) update was a very naive choice. Even if all states are reachable from anywhere in the state space (ergodicity property), they might not all be visited with the same frequency and therefore the convergence to $Q^\\pi$ might be delayed because of this uniform exploration strategy.<br>\n",
    "<br>\n",
    "The same remark applies to $\\epsilon$-greedy exploration strategies that often start with $\\epsilon=1$ and let it slowly decrease towards zero. These strategies don't account for the actual *visitation frequencies* of state-action pairs. In some states it might be good to keep a strong exploration probability because they actually have been seldom visited, while in other states, a faster decrease is desirable. This links also to the question of *value propagation* that was underpinned by the asynchronous value iteration remarks in the class on MDPs.<br>\n",
    "<br>\n",
    "The point here is to notice that $\\epsilon$-greedy is a simple, very naive exploration strategy that fits within the GLIE requirements but that much better exploration policies are possible by taking the current state into account (contextual exploration) or by using the values of the temporal difference (prioritized experience replay) and the $Q$ estimate (Boltzmann policies, $E^3$ or $R_{max}$ strategies) for instance.\n",
    "</div>"
   ]
  },
  {
   "cell_type": "markdown",
   "metadata": {},
   "source": [
    "## <a id=\"sarsa\"></a>SARSA\n",
    "\n",
    "The key idea behind the SARSA algorithm is to build a critic that constantly tries to evaluate the value $Q$ of the actor's policy $\\pi$, and an actor that tends to be greedy with respect to this critic. The algorithm is written:\n",
    "\n",
    "<div class=\"alert alert-success\"><b>SARSA</b><br>\n",
    "In $s$, choose (*actor*) $a$ using $Q$ , then repeat:\n",
    "<br> On choisi a en étant $\\epsilon$ gready\n",
    "<ol>\n",
    "<li> Observe $r$, $s'$\n",
    "<li> Choose $a'$ (<i>GLIE actor</i>) using $Q$\n",
    "<li> Temporal difference: $\\delta=r+\\gamma Q(s',a') - Q(s,a)$\n",
    "<li> Update $Q$: $Q(s,a) \\leftarrow Q(s,a) + \\alpha \\delta$\n",
    "<li> $s\\leftarrow s'$, $a\\leftarrow a'$\n",
    "</ol>\n",
    "SARSA converges if the actor is GLIE and if $\\alpha$ respects the Robbins-Monro conditions.\n",
    "</div>\n",
    "\n",
    "It is important to note that SARSA is an **on-policy** critic: it constantly evaluates the current $\\pi$... that constantly shifts towards $\\pi^*$ by being $Q$-greedy.\n",
    "\n",
    "The name SARSA comes from the usage of an augmented sample $(s,a,r,s',a')$.<br>\n",
    "<br>\n",
    "<div class=\"alert alert-warning\"><b>Exercice:</b><br>\n",
    "Let's implement an $\\epsilon$-greedy SARSA on the FrozenLake problem.<br>\n",
    "For the decrease of $\\epsilon$ we can opt for a division by 2 every million steps.<br>\n",
    "You can compare with $Q^*$ and $\\pi^*$ obtained during the model-based class.\n",
    "</div>"
   ]
  },
  {
   "cell_type": "code",
<<<<<<< HEAD
   "execution_count": 7,
   "metadata": {
    "ExecuteTime": {
     "end_time": "2020-02-03T15:35:14.355222Z",
     "start_time": "2020-02-03T15:35:14.306784Z"
    }
   },
   "outputs": [
    {
     "name": "stdout",
     "output_type": "stream",
     "text": [
      "{0: '←', 1: '↓', 2: '→', 3: '↑'}\n",
      "[0.068 0.061 0.074 0.055 0.091 0.    0.112 0.    0.145 0.247 0.299 0.\n",
      " 0.    0.38  0.639 0.   ]\n",
      "[[0.068 0.066 0.066 0.059]\n",
      " [0.039 0.043 0.04  0.061]\n",
      " [0.074 0.068 0.072 0.057]\n",
      " [0.039 0.039 0.033 0.055]\n",
      " [0.091 0.071 0.064 0.048]\n",
      " [0.    0.    0.    0.   ]\n",
      " [0.112 0.09  0.112 0.022]\n",
      " [0.    0.    0.    0.   ]\n",
      " [0.071 0.118 0.102 0.145]\n",
      " [0.157 0.247 0.204 0.133]\n",
      " [0.299 0.266 0.225 0.108]\n",
      " [0.    0.    0.    0.   ]\n",
      " [0.    0.    0.    0.   ]\n",
      " [0.188 0.306 0.38  0.266]\n",
      " [0.395 0.639 0.615 0.537]\n",
      " [0.    0.    0.    0.   ]]\n",
      "←↑←↑\n",
      "←←←←\n",
      "↑↓←←\n",
      "←→↓←\n",
      "  (Left)\n",
      "\u001b[41mS\u001b[0mFFF\n",
      "FHFH\n",
      "FFFH\n",
      "HFFG\n"
     ]
    }
   ],
=======
   "execution_count": null,
   "metadata": {},
   "outputs": [],
>>>>>>> c0e693d095f603cfdbf26b3d1a8a2ca71c54d7c8
   "source": [
    "# Model-based policy optimization and a few utility functions\n",
    "\n",
    "def value_iteration(V,epsilon,max_iter):\n",
    "    W = np.copy(V)\n",
    "    residuals = np.zeros((max_iter))\n",
    "    for i in range(max_iter):\n",
    "        for s in range(env.observation_space.n):\n",
    "            Q = np.zeros((env.action_space.n))\n",
    "            for a in range(env.action_space.n):\n",
    "                outcomes = env.unwrapped.P[s][a]\n",
    "                for o in outcomes:\n",
    "                    p  = o[0]\n",
    "                    s2 = o[1]\n",
    "                    r  = o[2]\n",
    "                    Q[a] += p*(r+gamma*V[s2])\n",
    "            W[s] = np.max(Q)\n",
    "            #print(W[s])\n",
    "        residuals[i] = np.max(np.abs(W-V))\n",
    "        #print(\"abs\", np.abs(W-V))\n",
    "        np.copyto(V,W)\n",
    "        if residuals[i]<epsilon:\n",
    "            residuals = residuals[:i+1]\n",
    "            break\n",
    "    return V, residuals\n",
    "\n",
    "def Q_from_V(V):\n",
    "    Q = np.zeros((env.observation_space.n, env.action_space.n))\n",
    "    for s in range(env.observation_space.n):\n",
    "        for a in range(env.action_space.n):\n",
    "            outcomes = env.unwrapped.P[s][a]\n",
    "            for o in outcomes:\n",
    "                p  = o[0]\n",
    "                s2 = o[1]\n",
    "                r  = o[2]\n",
    "                Q[s,a] += p*(r+gamma*V[s2])\n",
    "    return Q\n",
    "\n",
    "def greedyQpolicy(Q):\n",
    "    pi = np.zeros((env.observation_space.n),dtype=np.int)\n",
    "    for s in range(env.observation_space.n):\n",
    "        pi[s] = np.argmax(Q[s,:])\n",
    "    return pi\n",
    "\n",
    "def to_s(row,col):\n",
    "    return row*env.unwrapped.ncol+col\n",
    "\n",
    "def to_row_col(s):\n",
    "    col = s%env.unwrapped.ncol\n",
    "    row = int((s-col)/env.unwrapped.ncol)\n",
    "    return row,col\n",
    "\n",
    "def print_policy(pi):\n",
    "    for row in range(env.unwrapped.nrow):\n",
    "        for col in range(env.unwrapped.ncol):\n",
    "            print(actions[pi[to_s(row,col)]], end='')\n",
    "        print()\n",
    "    return\n",
    "\n",
    "Vinit = np.zeros((env.observation_space.n))\n",
    "Vstar,residuals = value_iteration(Vinit,1e-4,1000)\n",
    "Qstar = Q_from_V(Vstar)\n",
    "print(actions)\n",
    "print(Vstar)\n",
    "print(Qstar)\n",
    "pi_star = greedyQpolicy(Qstar)\n",
    "print_policy(pi_star)\n",
    "env.render();"
   ]
  },
  {
   "cell_type": "code",
<<<<<<< HEAD
   "execution_count": 8,
   "metadata": {
    "ExecuteTime": {
     "end_time": "2020-02-03T15:36:28.639608Z",
     "start_time": "2020-02-03T15:35:20.909243Z"
    }
   },
   "outputs": [
    {
     "name": "stdout",
     "output_type": "stream",
     "text": [
      "Max error: 0.04092352623822704\n"
     ]
    }
   ],
=======
   "execution_count": null,
   "metadata": {},
   "outputs": [],
>>>>>>> c0e693d095f603cfdbf26b3d1a8a2ca71c54d7c8
   "source": [
    "# Let's restart from Qpi0\n",
    "Qsarsa = Qpi0\n",
    "max_steps = 5000000\n",
    "\n",
    "def epsilon_greedy(Q, s, epsilon):\n",
    "    a = np.argmax(Q[s,:])\n",
    "    if(np.random.rand()<=epsilon): # random action\n",
    "        aa = np.random.randint(env.action_space.n-1)\n",
    "        if aa==a:\n",
    "            a=env.action_space.n-1\n",
    "        else:\n",
    "            a=aa\n",
    "    return a\n",
    "\n",
    "# SARSA\n",
    "count = np.zeros((env.observation_space.n,env.action_space.n)) # to track update frequencies\n",
    "epsilon = 1\n",
    "x = env.reset()\n",
    "a = epsilon_greedy(Qsarsa,x,epsilon)\n",
    "for t in range(max_steps):\n",
    "    if((t+1)%1000000==0):\n",
    "        epsilon = epsilon/2\n",
    "    y,r,d,_ = env.step(a)\n",
    "    aa = epsilon_greedy(Qsarsa,y,epsilon)\n",
    "    Qsarsa[x][a] = Qsarsa[x][a] + alpha * (r+gamma*Qsarsa[y][aa]-Qsarsa[x][a])\n",
    "    count[x][a] += 1\n",
    "    if d==True:\n",
    "        x = env.reset()\n",
    "        a = epsilon_greedy(Qsarsa,x,epsilon)\n",
    "    else:\n",
    "        x=y\n",
    "        a = aa\n",
    "\n",
    "# SARSA's final value function and policy\n",
    "print(\"Max error:\", np.max(np.abs(Qsarsa-Qstar)))"
   ]
  },
  {
   "cell_type": "code",
<<<<<<< HEAD
   "execution_count": 9,
   "metadata": {
    "ExecuteTime": {
     "end_time": "2020-02-03T15:36:40.327687Z",
     "start_time": "2020-02-03T15:36:40.307471Z"
    }
   },
   "outputs": [
    {
     "name": "stdout",
     "output_type": "stream",
     "text": [
      "Final epsilon: 0.03125\n",
      "Greedy SARSA policy:\n",
      "←↑←↑\n",
      "←←←←\n",
      "↑↓←←\n",
      "←→↓←\n",
      "Difference between pi_sarsa and pi_star (recall that there are several optimal policies):\n",
      "[0 0 0 0 0 0 0 0 0 0 0 0 0 0 0 0]\n",
      "Max difference in value between pi_sarsa and pi_star: 9.613535775387927e-05\n",
      "Min difference in value between pi_sarsa and pi_star: 0.0\n"
     ]
    }
   ],
=======
   "execution_count": null,
   "metadata": {},
   "outputs": [],
>>>>>>> c0e693d095f603cfdbf26b3d1a8a2ca71c54d7c8
   "source": [
    "print(\"Final epsilon:\", epsilon)\n",
    "pi_sarsa = greedyQpolicy(Qsarsa)\n",
    "print(\"Greedy SARSA policy:\")\n",
    "print_policy(pi_sarsa)\n",
    "print(\"Difference between pi_sarsa and pi_star (recall that there are several optimal policies):\")\n",
    "print(pi_sarsa-pi_star)\n",
    "Qpi_sarsa, residuals = policy_Qeval_iter(pi_sarsa,1e-4,10000)\n",
    "print(\"Max difference in value between pi_sarsa and pi_star:\", np.max(np.abs(Qpi_sarsa-Qstar)))\n",
    "print(\"Min difference in value between pi_sarsa and pi_star:\", np.min(np.abs(Qpi_sarsa-Qstar)))"
   ]
  },
  {
   "cell_type": "markdown",
   "metadata": {},
   "source": [
    "The same remark as for TD(0) holds: with a better exploration strategy, the convergence to Qstar could be much more efficient. We can see that some states have been visited (and updated) way more often than others. Let's plot the exploration map for each action."
   ]
  },
  {
   "cell_type": "code",
   "execution_count": 10,
   "metadata": {
<<<<<<< HEAD
    "ExecuteTime": {
     "end_time": "2020-02-03T15:37:48.805913Z",
     "start_time": "2020-02-03T15:37:48.492196Z"
    },
=======
>>>>>>> c0e693d095f603cfdbf26b3d1a8a2ca71c54d7c8
    "scrolled": true
   },
   "outputs": [
    {
     "data": {
      "image/png": "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\n",
      "text/plain": [
       "<Figure size 432x288 with 4 Axes>"
      ]
     },
     "metadata": {
      "needs_background": "light"
     },
     "output_type": "display_data"
    },
    {
     "name": "stdout",
     "output_type": "stream",
     "text": [
      "  (Up)\n",
      "SFFF\n",
      "FHFH\n",
      "F\u001b[41mF\u001b[0mFH\n",
      "HFFG\n"
     ]
    }
   ],
   "source": [
    "count_map = np.zeros((env.unwrapped.nrow, env.unwrapped.ncol, env.action_space.n))\n",
    "for a in range(env.action_space.n):\n",
    "    for x in range(env.observation_space.n):\n",
    "        row,col = to_row_col(x)\n",
    "        count_map[row, col, a] = count[x,a]\n",
    "\n",
    "fig, axs = plt.subplots(ncols=4)\n",
    "for a in range(env.action_space.n):\n",
    "    name = \"a = \" + actions[a]\n",
    "    axs[a].set_title(name)\n",
    "    axs[a].imshow(np.log(count_map[:,:,a]+1), interpolation='nearest')\n",
    "    #print(\"a=\", a, \":\", sep='')\n",
    "    #print(count_map[:,:,a])\n",
    "plt.show()\n",
    "env.render()"
   ]
  },
  {
   "cell_type": "markdown",
   "metadata": {},
   "source": [
    "## <a id=\"qlearning\"></a>Q-learning\n",
    "\n",
    "It is somehow regretable that the convergence of $Q$ to $Q^*$ in SARSA depends on the decrease schedule of $\\epsilon$ (because SARSA always tries to evaluate the current policy). One could wish for an algorithm that tries to infer $Q^*$ independently of the actor's policy. In other words, one could wish for an **off-policy** algorithm that converges to $Q^*$. That's Q-learning.\n",
    "\n",
    "At each time step, Q-learning aims at evaluating what would be the optimal $Q$-function, independently of the policy applied. Thus, its target is $Q^*$ rather than $Q^\\pi$. To do this, it simply changes the TD update of SARSA into:\n",
    "$$Q(s,a) \\leftarrow Q(s,a) + \\alpha \\left[r + \\gamma \\max_{a'} Q(s',a') - Q(s,a)\\right]$$\n",
    "\n",
    "<div class=\"alert alert-success\"><b>Q-learning</b><br>\n",
    "Repeat:\n",
    "<ol>\n",
    "    <li> In $s$, choose $a$ (<i>GLIE actor</i>)\n",
    "    <li> Observe $r$, $s'$\n",
    "    <li> Temporal difference: $\\delta=r+\\gamma \\max_{a'} Q(s',a') - Q(s,a)$\n",
    "    <li> Update $Q$: $Q(s,a) \\leftarrow Q(s,a) + \\alpha \\delta$\n",
    "    <li> $s\\leftarrow s'$\n",
    "</ol>\n",
    "Q-learning converges if the actor is GLIE and if $\\alpha$ respects the Robbins-Monro conditions.\n",
    "</div>\n",
    "\n",
    "The policy applied is not the target of the TD(0) update anymore: we have replaced $Q(s',a')$ by $\\max_{a'} Q(s',a')$, so if $Q=Q^*$ we are effectively evaluating an optimal policy. While SARSA was the sample-based implementation of an estimator for the **evaluation equation** (from the MDP class), Q-learning is the implementation of an estimator for the **optimality equation**.\n",
    "\n",
    "It is important to note that Q-learning is an **off-policy** critic: its target is independent of the policy applied by the actor (but of course the samples $(s,a,r,s')$ depend on the actor).<br>\n",
    "<br>\n",
    "<div class=\"alert alert-warning\"><b>Exercice:</b><br>\n",
    "Let's implement an $\\epsilon$-greedy Q-learning on the FrozenLake problem.<br>\n",
    "As in the previous exercice, for the decrease of $\\epsilon$ we can opt for a division by 2 every million steps.<br>\n",
    "You can compare with $Q^*$ and $\\pi^*$ obtained during the model-based class.\n",
    "</div>"
   ]
  },
  {
   "cell_type": "code",
<<<<<<< HEAD
   "execution_count": 11,
   "metadata": {
    "ExecuteTime": {
     "end_time": "2020-02-03T15:39:24.346766Z",
     "start_time": "2020-02-03T15:37:54.878882Z"
    }
   },
   "outputs": [
    {
     "name": "stdout",
     "output_type": "stream",
     "text": [
      "Max error: 0.00812836269151962\n"
     ]
    }
   ],
=======
   "execution_count": null,
   "metadata": {},
   "outputs": [],
>>>>>>> c0e693d095f603cfdbf26b3d1a8a2ca71c54d7c8
   "source": [
    "# Let's restart from Qpi0\n",
    "Qql = Qpi0\n",
    "max_steps = 5000000\n",
    "\n",
    "# Q-learning\n",
    "count = np.zeros((env.observation_space.n,env.action_space.n)) # to track update frequencies\n",
    "epsilon = 1\n",
    "x = env.reset()\n",
    "for t in range(max_steps):\n",
    "    if((t+1)%1000000==0):\n",
    "        epsilon = epsilon/2\n",
    "    a = epsilon_greedy(Qql,x,epsilon)\n",
    "    y,r,d,_ = env.step(a)\n",
    "    Qql[x][a] = Qql[x][a] + alpha * (r+gamma*np.max(Qql[y][:])-Qql[x][a])\n",
    "    count[x][a] += 1\n",
    "    if d==True:\n",
    "        x = env.reset()\n",
    "    else:\n",
    "        x=y\n",
    "\n",
    "# Q-learning's final value function and policy\n",
    "print(\"Max error:\", np.max(np.abs(Qql-Qstar)))"
   ]
  },
  {
   "cell_type": "code",
   "execution_count": 12,
   "metadata": {
<<<<<<< HEAD
    "ExecuteTime": {
     "end_time": "2020-02-03T15:39:43.246240Z",
     "start_time": "2020-02-03T15:39:43.225528Z"
    },
=======
>>>>>>> c0e693d095f603cfdbf26b3d1a8a2ca71c54d7c8
    "scrolled": true
   },
   "outputs": [
    {
     "name": "stdout",
     "output_type": "stream",
     "text": [
      "Final epsilon: 0.03125\n",
      "Greedy Q-learning policy:\n",
      "←↑←↑\n",
      "←←←←\n",
      "↑↓←←\n",
      "←→↓←\n",
      "Difference between pi_ql and pi_star (recall that there are several optimal policies):\n",
      "[0 0 0 0 0 0 0 0 0 0 0 0 0 0 0 0]\n",
      "Max difference in value between pi_sarsa and pi_star: 9.613535775387927e-05\n",
      "Min difference in value between pi_sarsa and pi_star: 0.0\n"
     ]
    }
   ],
   "source": [
    "print(\"Final epsilon:\", epsilon)\n",
    "pi_ql = greedyQpolicy(Qql)\n",
    "print(\"Greedy Q-learning policy:\")\n",
    "print_policy(pi_ql)\n",
    "print(\"Difference between pi_ql and pi_star (recall that there are several optimal policies):\")\n",
    "print(pi_ql-pi_star)\n",
    "Qpi_ql, residuals = policy_Qeval_iter(pi_ql,1e-4,10000)\n",
    "print(\"Max difference in value between pi_sarsa and pi_star:\", np.max(np.abs(Qpi_ql-Qstar)))\n",
    "print(\"Min difference in value between pi_sarsa and pi_star:\", np.min(np.abs(Qpi_ql-Qstar)))"
   ]
  },
  {
   "cell_type": "code",
   "execution_count": 14,
   "metadata": {
<<<<<<< HEAD
    "ExecuteTime": {
     "end_time": "2020-02-03T15:39:56.670639Z",
     "start_time": "2020-02-03T15:39:56.313421Z"
    },
=======
>>>>>>> c0e693d095f603cfdbf26b3d1a8a2ca71c54d7c8
    "scrolled": true
   },
   "outputs": [
    {
     "data": {
      "image/png": "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\n",
      "text/plain": [
       "<Figure size 432x288 with 4 Axes>"
      ]
     },
     "metadata": {
      "needs_background": "light"
     },
     "output_type": "display_data"
    },
    {
     "name": "stdout",
     "output_type": "stream",
     "text": [
      "  (Left)\n",
      "SFFF\n",
      "\u001b[41mF\u001b[0mHFH\n",
      "FFFH\n",
      "HFFG\n"
     ]
    }
   ],
   "source": [
    "count_map = np.zeros((env.unwrapped.nrow, env.unwrapped.ncol, env.action_space.n))\n",
    "for a in range(env.action_space.n):\n",
    "    for x in range(env.observation_space.n):\n",
    "        row,col = to_row_col(x)\n",
    "        count_map[row, col, a] = count[x,a]\n",
    "\n",
    "fig, axs = plt.subplots(ncols=4)\n",
    "for a in range(env.action_space.n):\n",
    "    name = \"a = \" + actions[a]\n",
    "    axs[a].set_title(name)\n",
    "    axs[a].imshow(np.log(count_map[:,:,a]+1), interpolation='nearest')\n",
    "    #print(\"a=\", a, \":\", sep='')\n",
    "    #print(count_map[:,:,a])\n",
    "plt.show()\n",
    "env.render()"
   ]
  },
  {
   "cell_type": "markdown",
   "metadata": {},
   "source": [
    "## <a id=\"further\"></a>Going further with SARSA and Q-learning\n",
    "\n",
    "The exercices below will help you go further with SARSA and Q-learning (you can skip this part if this is the first time you read this notebook). [Link to next part](#offline)\n",
    "<div class=\"alert alert-warning\"><b>Exercices:</b><br>\n",
    "<ul>\n",
    "<li><b>Context-dependent exploration</b><br>\n",
    "Can you implement an $(s,a)$-dependent $\\epsilon$-greedy exploration strategy (by using the `count` table introduced earlier for instance)?\n",
    "<li><b>Heuristic initialization on $Q$</b><br>\n",
    "For Q-learning, can you think of an initialization of $Q$ that would be better than plain zeros (for example by exploiting the maximum 1-step reward $r_{max}$)? One that, for instance, would drive the exploration towards unvisited states?\n",
    "<li><b>Reward shaping</b><br>\n",
    "Did you notice that falling into a hole brings no penalty? If we introduced a $-1$ reward for falling into a hole, would it change the optimal policy?\n",
    "<li><b>SARSA($\\lambda$)</b><br>\n",
    "SARSA is an on-policy method and we've seen that so is TD($\\lambda$) so it seems rather straightforward to implement a SARSA($\\lambda$) algorithm that, hopefully, will have better convergence properties than plain SARSA.\n",
    "<li><b>$Q(\\lambda)$</b><br>\n",
    "This time it is not as straightfoward to derive a $Q(\\lambda)$ algorithm from TD($\\lambda$), precisely because TD($\\lambda$) evaluates the policy being applied and not another one. Can you imagine a way to still perform $Q(\\lambda)$ updates? An answer is found in Watkins's thesis that introduces Q-learning in 1989. For a more recent approach and other references, see Sutton et al, <b>A new Q($\\lambda$) with interim forward view and Monte Carlo equivalence</b>, 2014)\n",
    "<li><b>SARSA and $Q$-learning with linear value function approximation</b><br>\n",
    "Can you implement an approximate version of SARSA and $Q$-learning with linear Q-function approximation $Q(s,a)=\\theta^T\\varphi(s,a)$?\n",
    "</ul>\n",
    "</div>"
   ]
  },
  {
   "cell_type": "markdown",
   "metadata": {},
   "source": [
    "<div class=\"alert alert-danger\"><a href=\"#going\" data-toggle=\"collapse\"><b>Answers:</b></a><br>\n",
    "<div id=\"going\" class=\"collapse\">\n",
    "TODO\n",
    "</div>\n",
    "</div>"
   ]
  },
  {
   "cell_type": "markdown",
   "metadata": {},
   "source": [
    "# <a id=\"interactive\"></a>Interactive problems\n",
    "\n",
    "The previous section focused on **online learning**, where the agent could decide, at each step, what action to take (thus making a compromise between exploration and exploitation) but suffered the consequences of this action on the next step with no control over this next states.\n",
    "\n",
    "However, in many cases, our agent does not interact with the real world but with a simulator, which we can reset to a predefined state. This case, where the agent controls both the state $s$ and the action $a$ in which it queries samples, is called **interactive learning** and online problems are a specific subset of interactive learning problems.\n",
    "\n",
    "In interactive problems, the exploration vs. exploitation compromise turn to an **active learning** problem. There, the agent should decide to sample more into promising parts or into unexplored parts of $S\\times A$.\n",
    "\n",
    "Currently, this notebook does not cover the case of interactive problems, which will be the focus of the class on Monte Carlo Tree Search. However, the reader is invited to read the excellent discussion in section 4.1 and 4.2 of the **[Algorithms in Reinforcement Learning](https://sites.ualberta.ca/~szepesva/RLBook.html)** book by Csaba Szepesvari (draft freely available online)."
   ]
  },
  {
   "cell_type": "markdown",
   "metadata": {},
   "source": [
    "# <a id=\"offline\"></a>Offline problems, focussing on the critic alone\n",
    "\n",
    "If this is the first time you read this notebook, you can skip this part. However, bear in mind that the approaches described below carry many insights as to the construction of efficient critics and, even if they are not as fashionable as Deep Q-learning approaches today, they still represent an important part of the RL literature.\n",
    "\n",
    "We now turn our attention to offline problems. These are problems where someone provides the agent with a data set $\\mathcal{D}=\\left\\{(s,a,r,s')\\right\\}$ but allows no interaction with the environment. These are also called *batch learning problems*. The agent is still required to search for an optimal policy.\n",
    "\n",
    "Obviously, in this setting, there is no *actor* anymore, since there is no interaction with the environment. The question then becomes: can we still learn an optimal policy / value function from this data set?\n",
    "\n",
    "Obviously, we could try to infer the underlying MDP's transition and reward models from $\\mathcal{D}$ and then solve the optimality equation. In the next two sections, we propose two algorithms that respectively approximate Value Iteration and Policy Iteration with the samples from $\\mathcal{D}$.\n",
    "\n",
    "Since there is no exploration in offline RL, it defines a rather specific class of problems for which the curse of dimensionality is less of an issue than in online or interactive RL. Here, the samples set is known from the start and we should make the best possible use of it, with no particular hope that we could get a better coverage of the state-action space. Of course, this translates directly to our ability to generalize well the finite set of samples at our disposal to a value function that covers the full state-action space and therefore, it moves the exploration problem towards a *representation* problem, commonly known in **Supervized Learning** (in particular via the bias-variance tradeoff).\n",
    "\n",
    "An interesting feature about methods that solve offline RL problems is that they are necessarily off-policy. However, they might still be sensitive to the distribution of samples."
   ]
  },
  {
   "cell_type": "markdown",
   "metadata": {},
   "source": [
    "## <a id=\"fqi\"></a>Fitted Q-iteration\n",
    "\n",
    "Recall the idea of Value Iteration. In every state we performed the Bellman backup:\n",
    "$$V(s) \\leftarrow \\max_{a} r(s,a) + \\gamma \\sum_{s'\\in S} p(s'|s,a) V(s')$$\n",
    "We can write the $Q$-function version of Value Iteration, which we call $Q$-iteration:\n",
    "$$Q(s,a) \\leftarrow r(s,a) + \\gamma \\sum_{s'\\in S} p(s'|s,a) \\max_{a'} Q(s',a')$$\n",
    "\n",
    "The online version of this update leads to the Q-learning algorithm. The offline version will require a function approximator and is called **fitted Q-iteration**.<br>\n",
    "<br>\n",
    "<div class=\"alert alert-success\"><b>Fitted Q-iteration</b><br>\n",
    "Given a regression method \"fit_model\" and an initial $Q_0=0$.<br>\n",
    "For $i=1$ to $N$:\n",
    "<ul>\n",
    "<li> For each sample $(s,a,r,s')$ in $\\mathcal{D}$, define $(x,y)$ with:<br>\n",
    "$x = (s,a)$<br>\n",
    "$y = r + \\gamma \\max_{a'} Q_{i-1}(s',a')$<br>\n",
    "Call $\\mathcal{T}$ the training set $\\left\\{(x,y)\\right\\}$\n",
    "<li> $Q_i$ = fit_model$(\\mathcal{T})$\n",
    "</ul>\n",
    "</div>\n",
    "\n",
    "Note that in the tabular case, a straightforward version of fitted Q-iteration boils down to averaging the values of $r + \\gamma \\max_{a'} Q_{i-1}(s',a')$ for all the $(r,s')$ resulting from the same $(s,a)$.\n",
    "\n",
    "Of course, the more expressive \"fit_model\" is, the less error one carries from one iteration to the other. In practice, it is known that fitted Q-iteration might diverge unless some special regressor is used. Kernel smoothing, tree-based methods or neural networks can be good candidates for the implementation of such algorithms. In the cases where fitted Q-iteration converges, it does so to a neighborhood of the optimal $Q^*$.<br>\n",
    "<br>\n",
    "A general sufficient condition for the convergence of fitted Q-iteration is to use *averagers*; these are functions that can be decomposed as $Q(s,a)=\\sum\\limits_{i} \\theta_i \\varphi_i(s,a)$ with the property that $\\forall (s,a), \\sum\\limits_{i} \\varphi_i(s,a) = 1$. Note that *kernel-based methods* are averagers (*tree-based methods* being a specific case of kernel-based methods, with constant 0/1 kernels).<br>\n",
    "<br>\n",
    "A good reference on fitted Q-iteration is the article **[Tree based batch mode Reinforcement Learning](http://www.jmlr.org/papers/volume6/ernst05a/ernst05a.pdf)** by Ernst et al. (2004).<br>\n",
    "An alternative reference, using neural networks instead to tree-based methods is **[Neural Fitted Q-Iteration - first experiences with a data efficient reinforcement learning method](https://pdfs.semanticscholar.org/2820/01869bd502c7917db8b32b75593addfbbc68.pdf)** by Riedmiller (2005).<br>\n",
    "<br>\n",
    "<div class=\"alert alert-warning\"><b>Exercice:</b><br>\n",
    "Implement a fitted Q-iteration method in the exact tabular case for the FrozenLake problem.<br>\n",
    "The training data will be collected by performing a uniform random walk.\n",
    "</div>"
   ]
  },
  {
   "cell_type": "code",
   "execution_count": null,
   "metadata": {},
   "outputs": [],
   "source": [
    "# data generation\n",
    "N=1000000\n",
    "XX = np.zeros((N), dtype=np.int)\n",
    "AA = np.zeros((N), dtype=np.int)\n",
    "RR = np.zeros((N))\n",
    "YY = np.zeros((N), dtype=np.int)\n",
    "count = np.zeros((env.observation_space.n,env.action_space.n)) # to track update frequencies\n",
    "x = env.reset()\n",
    "XX[0] = x\n",
    "for t in range(N):\n",
    "    a = np.random.randint(4)\n",
    "    y,r,d,_ = env.step(a)\n",
    "    XX[t] = x\n",
    "    AA[t] = a\n",
    "    RR[t] = r\n",
    "    YY[t] = y\n",
    "    count[x,a] += 1\n",
    "    if d==True:\n",
    "        x = env.reset()\n",
    "    else:\n",
    "        x=y"
   ]
  },
  {
   "cell_type": "code",
   "execution_count": null,
   "metadata": {},
   "outputs": [],
   "source": [
    "count_map = np.zeros((env.unwrapped.nrow, env.unwrapped.ncol, env.action_space.n))\n",
    "for a in range(env.action_space.n):\n",
    "    for x in range(env.observation_space.n):\n",
    "        row,col = to_row_col(x)\n",
    "        count_map[row, col, a] = count[x,a]\n",
    "\n",
    "fig, axs = plt.subplots(ncols=4)\n",
    "for a in range(env.action_space.n):\n",
    "    name = \"a = \" + actions[a]\n",
    "    axs[a].set_title(name)\n",
    "    axs[a].imshow(np.log(count_map[:,:,a]+1), interpolation='nearest')\n",
    "    print(\"a=\", a, \":\", sep='')\n",
    "    print(count_map[:,:,a])\n",
    "plt.show()"
   ]
  },
  {
   "cell_type": "code",
   "execution_count": null,
   "metadata": {},
   "outputs": [],
   "source": [
    "# FQI\n",
    "FQI_steps=20\n",
    "Q_fqi = np.zeros((env.observation_space.n, env.action_space.n, FQI_steps))\n",
    "count = np.zeros((env.observation_space.n, env.action_space.n))\n",
    "for i in range(XX.shape[0]):\n",
    "    count[XX[i], AA[i]] +=1\n",
    "\n",
    "for n in range(1,FQI_steps):\n",
    "    for i in range(XX.shape[0]):\n",
    "        Q_fqi[XX[i], AA[i], n] += RR[i] + gamma * np.max(Q_fqi[YY[i], :, n-1])\n",
    "    for s in range(env.observation_space.n):\n",
    "        for a in range(env.action_space.n):\n",
    "            if(count[s,a]!=0):\n",
    "                Q_fqi[s,a,n] = Q_fqi[s,a,n] / count[s,a]"
   ]
  },
  {
   "cell_type": "code",
   "execution_count": null,
   "metadata": {},
   "outputs": [],
   "source": [
    "pi_fqi = greedyQpolicy(Q_fqi[:,:,FQI_steps-1])\n",
    "print(\"Greedy FQI policy:\")\n",
    "print_policy(pi_fqi)\n",
    "print(\"Difference between pi_fqi and pi_star (recall that there are several optimal policies):\")\n",
    "print(pi_fqi-pi_star)\n",
    "Qpi_fqi, residuals = policy_Qeval_iter(pi_fqi,1e-4,10000)\n",
    "print(\"Max difference in value between pi_fqi and pi_star:\", np.max(np.abs(Qpi_fqi-Qstar)))\n",
    "print(\"Min difference in value between pi_fqi and pi_star:\", np.min(np.abs(Qpi_fqi-Qstar)))"
   ]
  },
  {
   "cell_type": "code",
   "execution_count": null,
   "metadata": {},
   "outputs": [],
   "source": [
    "delta = np.zeros((FQI_steps))\n",
    "for n in range(FQI_steps):\n",
    "    Q, residuals = policy_Qeval_iter(greedyQpolicy(Q_fqi[:,:,n]),1e-4,10000)\n",
    "    delta[n] = np.max(np.abs(Q-Qstar))\n",
    "\n",
    "plt.plot(delta)\n",
    "plt.figure()\n",
    "plt.semilogy(delta);"
   ]
  },
  {
   "cell_type": "markdown",
   "metadata": {},
   "source": [
    "In very large state and action spaces, it might be difficult to obtain samples $(s,a)$ covering efficiently the full $S\\times A$ space. However, supposing that the approximation method for $Q(s,a)$ is robust to non-uniform $(s,a)$-distributions, one can remark that fitted Q-iteration lends itself quite easily to interleaving the data acquisition phase and the value function improvement. Again, this come with no guarantees concerning convergence but can be an advantage in very large state and action spaces.<br>\n",
    "<br>\n",
    "In particular, provided that the database of samples contains enough information about reward providing transitions, it might be interesting to progressively focus the sampling strategy around the last $Q$-greedy policy's state-action distribution. For an example of application of this idea, one can refer to **Clinical data based optimal STI strategies for HIV: a Reinforcement Learning approach** by Ernst et al (2006).<br>\n",
    "<br>\n",
    "<div class=\"alert alert-warning\"><b>Exercice:</b><br>\n",
    "Implement a modified fitted Q-iteration algorithm that collects new samples at step $n$ by using a $Q_{n-1}$-greedy  $\\epsilon$-greedy policy and adds them to the training database.<br>\n",
    "More precisely, at each enrichment step, add $N$ new samples to the dataset, but only generate $N/10$ of them using $\\epsilon = 1 - \\frac{i}{9}$ for $i\\in [0,9]$.<br>\n",
    "Start with an initial zero $Q$-function.\n",
    "</div>\n",
    "We don't expect to see much of a difference compared to the previous exercice because FrozenLake is just too simple, but we can still do this exercice for practice."
   ]
  },
  {
   "cell_type": "code",
   "execution_count": null,
   "metadata": {},
   "outputs": [],
   "source": [
    "# incremental FQI\n",
    "N=100000\n",
    "XX = np.zeros((0), dtype=np.int)\n",
    "AA = np.zeros((0), dtype=np.int)\n",
    "RR = np.zeros((0))\n",
    "YY = np.zeros((0), dtype=np.int)\n",
    "FQI_steps=20\n",
    "Q_fqi = np.zeros((env.observation_space.n, env.action_space.n, FQI_steps))\n",
    "count = np.zeros((env.observation_space.n,env.action_space.n)) # to track update frequencies\n",
    "for n in range(1,FQI_steps):\n",
    "    print(\"FQI step number\", n)\n",
    "    # data generation\n",
    "    XXX = np.zeros((N), dtype=np.int)\n",
    "    AAA = np.zeros((N), dtype=np.int)\n",
    "    RRR = np.zeros((N))\n",
    "    YYY = np.zeros((N), dtype=np.int)\n",
    "    count2 = np.zeros((env.observation_space.n,env.action_space.n))\n",
    "    epsilon = 1\n",
    "    Nbatch = np.floor(N/10)\n",
    "    x = env.reset()\n",
    "    for i in range(N):\n",
    "        if (i%Nbatch == 0):\n",
    "            epsilon -= 1./9.\n",
    "        a = epsilon_greedy(Q_fqi[:,:,n-1],x,epsilon)\n",
    "        y,r,d,_ = env.step(a)\n",
    "        XXX[i] = x\n",
    "        AAA[i] = a\n",
    "        RRR[i] = r\n",
    "        YYY[i] = y\n",
    "        count2[x,a] += 1\n",
    "        if d==True:\n",
    "            x = env.reset()\n",
    "        else:\n",
    "            x=y\n",
    "    XX = np.append(XX,XXX)\n",
    "    AA = np.append(AA,AAA)\n",
    "    RR = np.append(RR,RRR)\n",
    "    YY = np.append(YY,YYY)\n",
    "    count = count + count2\n",
    "    print(\"number of samples in dataset:\", XX.shape[0])\n",
    "    # Value function computation\n",
    "    for i in range(XX.shape[0]):\n",
    "        Q_fqi[XX[i], AA[i], n] += RR[i] + gamma * np.max(Q_fqi[YY[i], :, n-1])\n",
    "    for s in range(env.observation_space.n):\n",
    "        for a in range(env.action_space.n):\n",
    "            if(count[s,a]!=0):\n",
    "                Q_fqi[s,a,n] = Q_fqi[s,a,n] / count[s,a]"
   ]
  },
  {
   "cell_type": "code",
   "execution_count": null,
   "metadata": {},
   "outputs": [],
   "source": [
    "delta = np.zeros((FQI_steps))\n",
    "for n in range(FQI_steps):\n",
    "    Q, residuals = policy_Qeval_iter(greedyQpolicy(Q_fqi[:,:,n]),1e-4,10000)\n",
    "    delta[n] = np.max(np.abs(Q-Qstar))\n",
    "\n",
    "plt.plot(delta)\n",
    "plt.figure()\n",
    "plt.semilogy(delta);"
   ]
  },
  {
   "cell_type": "markdown",
   "metadata": {},
   "source": [
    "To alleviate the problem of the linearly increasing size of the database in the example above, one could implement, for instance, a uniform random removal over the data set, in order to keep its size bounded. These more advanced tricks and their implications are beyond the scope of this notebook but they give a first flavour of the mini-batches and experience replay tricks that are used in state-of-the-art Deep Reinforcement Learning methods."
   ]
  },
  {
   "cell_type": "markdown",
   "metadata": {},
   "source": [
    "FrozenLake is a very simple toy problem with (few) discrete states and actions. So the dataset above covers well the full state-action space. But in the general case, the state-action space might be continuous or just too large to sample extensively. So one has to rely on the generalization properties of a regressor.<br>\n",
    "<br>\n",
    "<div class=\"alert alert-warning\"><b>Exercice:</b><br>\n",
    "Let's implement a fitted Q-iteration method using Random Forests (or Extremely Randomized Trees) as a regressor over the (row, column, action) feature space.\n",
    "</div>"
   ]
  },
  {
   "cell_type": "code",
   "execution_count": null,
   "metadata": {},
   "outputs": [],
   "source": [
    "# data generation\n",
    "N=1000000\n",
    "XX = np.zeros((N), dtype=np.int)\n",
    "AA = np.zeros((N), dtype=np.int)\n",
    "RR = np.zeros((N))\n",
    "YY = np.zeros((N), dtype=np.int)\n",
    "x = env.reset()\n",
    "XX[0] = x\n",
    "print(\"data generation\")\n",
    "for t in range(N):\n",
    "    a = np.random.randint(4)\n",
    "    y,r,d,_ = env.step(a)\n",
    "    XX[t] = x\n",
    "    AA[t] = a\n",
    "    RR[t] = r\n",
    "    YY[t] = y\n",
    "    if d==True:\n",
    "        x = env.reset()\n",
    "    else:\n",
    "        x=y"
   ]
  },
  {
   "cell_type": "code",
   "execution_count": null,
   "metadata": {},
   "outputs": [],
   "source": [
    "#from sklearn.ensemble import RandomForestRegressor as regressor\n",
    "from sklearn.ensemble import ExtraTreesRegressor as regressor\n",
    "\n",
    "# Dataset preparation\n",
    "print(\"dataset preparation\")\n",
    "nb_samples = XX.shape[0]\n",
    "Xregr = np.zeros((nb_samples,3))\n",
    "Yregr = np.zeros((nb_samples))\n",
    "for i in range(nb_samples):\n",
    "    row,col = to_row_col(XX[i])\n",
    "    Xregr[i,0] = row\n",
    "    Xregr[i,1] = col\n",
    "    Xregr[i,2] = AA[i]\n",
    "# X_next_state is a table containing all possible pairs (s',a') ordered as (s0, a0), (s0,a1), (s0,a2), (s1,a0)...\n",
    "# It will be useful to compute max_a Q(s,a)\n",
    "X_next_state = np.zeros((env.action_space.n * nb_samples, 3))\n",
    "index = 0\n",
    "for i in range(nb_samples):\n",
    "    row,col = to_row_col(YY[i])\n",
    "    for a in range(env.action_space.n):\n",
    "        X_next_state[index,0] = row\n",
    "        X_next_state[index,1] = col\n",
    "        X_next_state[index,2] = a\n",
    "        index = index+1"
   ]
  },
  {
   "cell_type": "code",
   "execution_count": null,
   "metadata": {},
   "outputs": [],
   "source": [
    "# Tree-based FQI (WARNING, the repeated training of the regressor might be very long)\n",
    "\n",
    "# hack: sink_mask is a vector that is 0 for terminal states and 1 otherwise\n",
    "# it is used to avoid having non-zero values for max_a Q(s,a), for terminal states s\n",
    "sinks = {5,7,11,12,15}\n",
    "sink_mask = np.ones((nb_samples))\n",
    "for i in range(nb_samples):\n",
    "    if (YY[i] in sinks):\n",
    "        sink_mask[i] = 0\n",
    "\n",
    "# FQI\n",
    "FQI_steps=20\n",
    "Qfunctions = []\n",
    "print(\"FQI step 0 - training regressor\")\n",
    "Qfunctions.append(regressor(n_estimators=200))\n",
    "Qfunctions[-1].fit(Xregr,Yregr)\n",
    "for n in range(1,FQI_steps):\n",
    "    print(\"FQI step\", n, end=\" - \")\n",
    "    pred_next_state = Qfunctions[-1].predict(X_next_state)\n",
    "    maxQ2 = np.max((pred_next_state.reshape(nb_samples, env.action_space.n)), axis=1)\n",
    "    maxQ2 = np.multiply(maxQ2,sink_mask)\n",
    "    Yregr = RR + gamma * maxQ2\n",
    "    print(\"training regressor\")\n",
    "    Qfunctions.append(regressor(n_estimators=200))\n",
    "    Qfunctions[-1].fit(Xregr,Yregr)"
   ]
  },
  {
   "cell_type": "code",
   "execution_count": null,
   "metadata": {},
   "outputs": [],
   "source": [
    "# Build greedy policy\n",
    "pi_fqi = np.zeros((env.observation_space.n),dtype=np.int)\n",
    "for s in range(env.observation_space.n):\n",
    "    Q = np.zeros((env.action_space.n))\n",
    "    row,col = to_row_col(s)\n",
    "    for a in range(env.action_space.n):\n",
    "        xinput = np.array([row,col,a]).reshape((1,3))\n",
    "        Q[a] = Qfunctions[-1].predict(xinput)\n",
    "    pi_fqi[s] = np.argmax(Q)"
   ]
  },
  {
   "cell_type": "code",
   "execution_count": null,
   "metadata": {},
   "outputs": [],
   "source": [
    "print(\"Greedy FQI policy:\")\n",
    "print_policy(pi_fqi)\n",
    "print(\"Difference between pi_fqi and pi_star (recall that there are several optimal policies):\")\n",
    "print(pi_fqi-pi_star)\n",
    "Qpi_fqi, residuals = policy_Qeval_iter(pi_fqi,1e-4,10000)\n",
    "print(\"Max difference in value between pi_fqi and pi_star:\", np.max(np.abs(Qpi_fqi-Qstar)))\n",
    "print(\"Min difference in value between pi_fqi and pi_star:\", np.min(np.abs(Qpi_fqi-Qstar)))"
   ]
  },
  {
   "cell_type": "markdown",
   "metadata": {},
   "source": [
    "<a href=\"#sinkmask\" data-toggle=\"collapse\">Important remark</a><br>\n",
    "<div id=\"sinkmask\" class=\"collapse\">\n",
    "Did you notice the `sink_mask` hack in the code above and its importance?<br>\n",
    "<br>\n",
    "When dealing with environments that have terminal states (such as the holes and the frisbee location here), no transitions will ever be sampled from those states. So a regression method (such as Random Forests) will never see samples starting from $(s,a)$ for a terminal $s$ and therefore will never be informed that it should return zero for any transition starting from $s$. Instead, it will return whatever value it can infer from all the other collected data. But the FQI procedure just ignores that fact: when computing $r+\\gamma \\max_{a'} Q(s',a')$ for terminal $s'$, it will request a scalar value from the regressor that was never informed that it should return value zero. Often, this will result in giving a non-zero value to transitions starting from terminal states and this will bias the resulting value functions and policies. To avoid this phenomenon, we introduced that `sink_mask` vector that zeroes down the $\\max_{a'} Q(s',a')$ term for any terminal $s'$. The regressor is still not informed that transitions from $s'$ are worth zero but at least we don't propagate this error through the iterations.\n",
    "</div>"
   ]
  },
  {
   "cell_type": "markdown",
   "metadata": {},
   "source": [
    "## <a id=\"lspi\"></a>Least Squares Policy Iteration\n",
    "\n",
    "Least Squares Policy Iteration (LSPI) answers the question: can we implement a Policy Iteration method based only on samples and given a linear model for the $Q$-function?\n",
    "\n",
    "Since we are talking about Policy Iteration, the critical step is the evaluation of a given policy.\n",
    "\n",
    "Suppose $Q^\\pi(s,a) = w^T \\varphi(s,a)$. We write $\\Phi$ the matrix of feature evaluations for all pairs $(s,a)$, that is:\n",
    "$$\\Phi = \\left[\\begin{array}{ccc}\\varphi_0(s_0,a_0) & \\cdots & \\varphi_0(s_{|S|},a_{|A|}) \\\\\n",
    "\\vdots & \\ddots & \\vdots \\\\\n",
    "\\varphi_K(s_0,a_0) & \\cdots & \\varphi_K(s_{|S|},a_{|A|}) \\end{array} \\right]$$\n",
    "\n",
    "Then, $Q^\\pi = r^\\pi + \\gamma P^\\pi Q^\\pi$ becomes:\n",
    "$$\\Phi w_\\pi = r^\\pi + \\gamma P^\\pi \\Phi w_\\pi$$\n",
    "\n",
    "But $r^\\pi + \\gamma P^\\pi \\Phi w_\\pi$ has no reason to lie within $span(\\varphi)$. So we should consider its projection on $span(\\varphi)$ as illustrated by the figure below.\n",
    "\n",
    "<img src=\"images/projection.png\" style=\"width: 600px;\"></img>\n",
    "\n",
    "The projection operator on $span(\\varphi)$ is $\\Phi\\left(\\Phi^T \\Phi\\right)^{-1} \\Phi^T$. And thus $w_\\pi$ is a solution to:\n",
    "$$\\Phi w_\\pi = \\Phi\\left(\\Phi^T \\Phi\\right)^{-1} \\Phi^T \\left( r^\\pi + \\gamma P^\\pi \\Phi w_\\pi \\right)$$\n",
    "\n",
    "And this system can be solved as (for a proof, see the seminal paper **[Least Squares Policy Iteration](http://www.jmlr.org/papers/volume4/lagoudakis03a/lagoudakis03a.pdf)** by Lagoudakis and Parr in 2003):\n",
    "$$w_\\pi  = \\left[\\Phi^T\\left(\\Phi - \\gamma P^\\pi \\Phi\\right)\\right]^{-1}\\Phi^T r^\\pi$$\n",
    "\n",
    "Let $A = \\Phi^T\\left(\\Phi - \\gamma P^\\pi \\Phi\\right)$ and $b=\\Phi^T  r^\\pi$. We have $w_\\pi = A^{-1}b$ so the question becomes: can we compute $A$ and $b$ from samples?\n",
    "\n",
    "Taking a closer look at $A$ and $b$, we have:\n",
    "$$A = \\sum\\limits_{s\\in S} \\sum\\limits_{a\\in A} \\sum\\limits_{s'\\in S} p(s'|s,a) \\left[ \\varphi(s,a) \\left( \\varphi(s,a) - \\gamma\\varphi(s',\\pi(s')) \\right)^T \\right]$$\n",
    "$$b= \\sum\\limits_{s\\in S} \\sum\\limits_{a\\in A} \\sum\\limits_{s'\\in S} p(s'|s,a) \\left[ \\varphi(s,a) r(s,a,s')\\right]$$\n",
    "\n",
    "And thus $A$ is the sum of many matrices of the form $\\varphi(s,a) \\left( \\varphi(s,a) - \\gamma\\varphi(s',\\varphi(s')) \\right)^T$ and $b$ is the sum of many vectors of the form $\\varphi(s,a) r(s,a,s')$.\n",
    "\n",
    "And so, finally, with $\\mathcal{D}=\\left\\{(s_i,a_i,r_i,s'_i)\\right\\}_{i=1..N}$, $A$ and $b$ can be approximated by:\n",
    "$$A \\approx \\frac{1}{N} \\sum\\limits_{i=1}^N\\left[\\varphi(s_i, a_i)\\left(\\varphi(s_i, a_i) - \\gamma \\varphi(s'_i, \\pi(s'_i))\\right)^T\\right]$$\n",
    "$$b \\approx \\frac{1}{N} \\sum\\limits_{i=1}^N \\left[ \\varphi(s_i,a_i)r_i \\right]$$\n",
    "\n",
    "From these expressions one gets the LSTD$Q$ (Least Squares Temporal Differences on $Q$ functions) algorithm that evaluates policy $\\pi$ given a function basis $\\varphi$:\n",
    "<div class=\"alert alert-success\"><b>LSTD$Q(\\pi,\\varphi)$</b>:<br>\n",
    "$K=\\dim(Im(\\varphi))$<br>\n",
    "$\\tilde{A} = 0_{K\\times K}$<br>\n",
    "$\\tilde{b} = 0_K$<br>\n",
    "For each $(s,a,r,s') \\in \\mathcal{D}$:<br>\n",
    "&nbsp;&nbsp;&nbsp;&nbsp;&nbsp;&nbsp; $\\tilde{A} \\leftarrow \\tilde{A} + \\varphi(s,a) \\left( \\varphi(s,a) - \\gamma\\varphi(s',\\pi(s')) \\right)^T$<br>\n",
    "&nbsp;&nbsp;&nbsp;&nbsp;&nbsp;&nbsp; $\\tilde{b} \\leftarrow \\tilde{b} + \\varphi(s,a) r$<br>\n",
    "return $w_\\pi = \\tilde{A}^{-1} b$\n",
    "</div>\n",
    "\n",
    "LSTD$Q$ requires the inversion of $\\tilde{A}$, which my not be full rank until a sufficient number of samples have been processed. One way to avoid  such singularities is to initialize $\\tilde{A}$ to a multiple of the identity matrix $\\delta I_K$ for some small positive $\\delta$, instead of $0_{K\\times K}$.\n",
    "\n",
    "This definition of LSTD$Q$ can be improved by using the Sherman-Morrison formula (incremental computation of the inverse $\\tilde{B}$ of $\\tilde{A}$) and the algorithm becomes:\n",
    "<div class=\"alert alert-success\"><b>LSTD$Q(\\pi,\\varphi)$ with incremental inverse computation</b>:<br>\n",
    "$\\tilde{B} = \\frac{1}{\\delta}I$ with $\\delta$ a small positive value.<br>\n",
    "$\\tilde{b} = 0$<br>\n",
    "For each $(s,a,r,s') \\in \\mathcal{D}$:<br>\n",
    "&nbsp;&nbsp;&nbsp;&nbsp;&nbsp;&nbsp; $\\tilde{B} \\leftarrow \\tilde{B} - \\frac{B \\varphi(s,a) \\left( \\varphi(s,a) - \\gamma\\varphi(s',\\pi(s')) \\right)^T B}{1 + \\left( \\varphi(s,a) - \\gamma\\varphi(s',\\pi(s')) \\right)^T B \\varphi(s,a)} $<br>\n",
    "&nbsp;&nbsp;&nbsp;&nbsp;&nbsp;&nbsp; $\\tilde{b} \\leftarrow \\tilde{b} + \\varphi(s,a) r$<br>\n",
    "return $w_\\pi = \\tilde{B} b$\n",
    "</div>\n",
    "\n",
    "The time complexity of the algorithm above is far lesser ($O(K^2)$) than the one involving the inversion of $\\tilde{A}$ ($O(K^3)$).\n",
    "\n",
    "LSTD$Q$ as defined above computes the weights of any policy $\\pi$. We will note this operation: $w \\leftarrow$ LSTD$Q$($\\pi,\\varphi$). But we also remark that given a weights vector $w$, computing the weights for the value of the $w^T \\varphi$ -greedy policy requires building $\\tilde{B}$ and $\\tilde{b}$. This computation requires finding the $\\arg\\max_{a'\\in A} w^T\\varphi(s',a')$ in all $s'$ concerned by the updates of $\\tilde{B}$, which can be done on the fly, sample after sample, without explicitly storing the greedy policy. Thus we can define the operation $w' \\leftarrow$ LSTD$Q$($w, \\varphi$) that directly computes the weights $w$ of the policy that is greedy with respect to $w^T\\varphi$.\n",
    "\n",
    "This way, we can evaluate any policy $\\pi$ or any $w^T \\varphi$-greedy policy given the dataset $\\mathcal{D}$. The LSPI algorithm is then simply, given an initial $\\pi_0$:<br>\n",
    "$w' \\leftarrow $ LSTD$Q$($\\pi_0,\\varphi$)<br>\n",
    "Repeat:<br>\n",
    "&nbsp;&nbsp;&nbsp;&nbsp;&nbsp;&nbsp; $w \\leftarrow w'$<br>\n",
    "&nbsp;&nbsp;&nbsp;&nbsp;&nbsp;&nbsp; $w' \\leftarrow$ LSTD$Q$($w,\\varphi$)<br>\n",
    "until $\\|w-w'\\| \\leq \\epsilon$<br>\n",
    "<br>\n",
    "<div class=\"alert alert-warning\"><b>Exercice:</b><br>\n",
    "Implement LSTQ$Q$ and LSPI as functions of an initial policy $\\pi$.<br>\n",
    "Since we can (because FrozenLake is very simple), let's use the state-action indicator functions as features.\n",
    "</div>"
   ]
  },
  {
   "cell_type": "code",
   "execution_count": null,
   "metadata": {},
   "outputs": [],
   "source": [
    "# features\n",
    "nb_features = env.observation_space.n * env.action_space.n\n",
    "\n",
    "def phi(s,a):\n",
    "    val = np.zeros((env.observation_space.n*env.action_space.n))\n",
    "    index = a*env.observation_space.n + s\n",
    "    val[index] = 1.\n",
    "    return val"
   ]
  },
  {
   "cell_type": "code",
   "execution_count": null,
   "metadata": {},
   "outputs": [],
   "source": [
    "# LSTDQ\n",
    "def LSTDQ_w(w, XX, AA, RR, YY, gamma, phi):\n",
    "    nb_samples = XX.shape[0]\n",
    "    delta = 1e-5\n",
    "    B = (1/delta)*np.eye(nb_features)\n",
    "    b = np.zeros((nb_features,1))\n",
    "    for i in range(nb_samples):\n",
    "        phi1 = phi(XX[i],AA[i]).reshape((nb_features,1))\n",
    "        Q2 = np.zeros(env.action_space.n)\n",
    "        for a in range(env.action_space.n):\n",
    "            phi2 = phi(YY[i],a)\n",
    "            Q2[a] = np.dot(w,phi2)\n",
    "        a2 = np.argmax(Q2)\n",
    "        phi2 = phi(YY[i],a2).reshape((nb_features,1))\n",
    "        # update B\n",
    "        B = B - ( B @ (phi1 @ (phi1-gamma*phi2).T) @ B ) / (1. + (phi1-gamma*phi2).T @ B @ phi1 )\n",
    "        # update b\n",
    "        b = b + phi1 * RR[i]\n",
    "    return (B @ b).ravel()\n",
    "\n",
    "def LSTDQ_pi(pi, XX, AA, RR, YY, gamma, phi):\n",
    "    nb_samples = XX.shape[0]\n",
    "    delta = 1e-5\n",
    "    B = (1/delta)*np.eye(nb_features)\n",
    "    b = np.zeros((nb_features,1))\n",
    "    for i in range(nb_samples):\n",
    "        phi1 = phi(XX[i],AA[i]).reshape((nb_features,1))\n",
    "        phi2 = phi(YY[i],pi[YY[i]]).reshape((nb_features,1))\n",
    "        # update B\n",
    "        B = B - ( B @ (phi1 @ (phi1-gamma*phi2).T) @ B ) / (1. + (phi1-gamma*phi2).T @ B @ phi1 )\n",
    "        # update b\n",
    "        b = b + phi1 * RR[i]\n",
    "    return (B @ b).ravel()"
   ]
  },
  {
   "cell_type": "code",
   "execution_count": null,
   "metadata": {},
   "outputs": [],
   "source": [
    "# data generation\n",
    "N=1000000\n",
    "XX = np.zeros((N), dtype=np.int)\n",
    "AA = np.zeros((N), dtype=np.int)\n",
    "RR = np.zeros((N))\n",
    "YY = np.zeros((N), dtype=np.int)\n",
    "x = env.reset()\n",
    "XX[0] = x\n",
    "print(\"data generation\", end=\" - \")\n",
    "for t in range(N):\n",
    "    a = np.random.randint(4)\n",
    "    y,r,d,_ = env.step(a)\n",
    "    XX[t] = x\n",
    "    AA[t] = a\n",
    "    RR[t] = r\n",
    "    YY[t] = y\n",
    "    if d==True:\n",
    "        x = env.reset()\n",
    "    else:\n",
    "        x=y\n",
    "print(N, \"data points generated.\")"
   ]
  },
  {
   "cell_type": "code",
   "execution_count": null,
   "metadata": {
    "scrolled": true
   },
   "outputs": [],
   "source": [
    "# LSPI\n",
    "pi0 = fl.RIGHT*np.ones((env.observation_space.n), dtype=np.int)\n",
    "max_iterations = 5 # maximum number of iterations for Policy Iteration\n",
    "epsilon = 1e-4\n",
    "w = np.zeros((max_iterations, nb_features))\n",
    "residual = np.zeros((max_iterations))\n",
    "print(\"LSPI iteration number 0 (evaluate first policy)\")\n",
    "w[0,:] = LSTDQ_pi(pi0, XX, AA, RR, YY, gamma, phi)\n",
    "for i in range(1,max_iterations):\n",
    "    print(\"LSPI iteration number,\", i, \"(evaluate greedy policy wrt w)\")\n",
    "    w[i,:] = LSTDQ_w(w[i-1,:], XX, AA, RR, YY, gamma, phi)\n",
    "    residual[i-1] = np.max(np.abs(w[i,:]-w[i-1,:]))\n",
    "    print(\"Residual ||w'-w|| =\", residual[i-1])\n",
    "    if (residual[i-1] < epsilon):\n",
    "        w = w[:i+1,:]\n",
    "        residual = residual[:i]\n",
    "        break"
   ]
  },
  {
   "cell_type": "code",
   "execution_count": null,
   "metadata": {},
   "outputs": [],
   "source": [
    "# Displaying final results\n",
    "nb_iterations = w.shape[0]\n",
    "\n",
    "def policy_from_w(w, phi):\n",
    "    pi = np.zeros((env.observation_space.n),np.int)\n",
    "    for s in range(env.observation_space.n):\n",
    "        Q = np.zeros((env.action_space.n))\n",
    "        for a in range(env.action_space.n):\n",
    "            Q[a] = np.dot(w,phi(s,a))\n",
    "        pi[s] = np.argmax(Q)\n",
    "    return pi\n",
    "\n",
    "pi_lspi = policy_from_w(w[-1,:],phi)\n",
    "\n",
    "print(\"Finished in\", nb_iterations, \"iterations.\")\n",
    "print(\"Final LSPI policy:\")\n",
    "print_policy(pi_lspi)\n",
    "print(\"Evolution of ||w' - w||:\")\n",
    "val = np.zeros((nb_iterations-1))\n",
    "for i in range(nb_iterations-1):\n",
    "    val[i] = np.max(np.abs(w[i+1,:]-w[i,:]))\n",
    "plt.plot(residual)\n",
    "plt.show()\n",
    "print(\"Difference between pi_lspi and pi_star (recall that there are several optimal policies):\")\n",
    "print(pi_lspi-pi_star)\n",
    "Qpi_lspi, residuals = policy_Qeval_iter(pi_lspi,1e-4,10000)\n",
    "print(\"Max difference in value between pi_lspi and pi_star:\", np.max(np.abs(Qpi_lspi-Qstar)))\n",
    "print(\"Min difference in value between pi_lspi and pi_star:\", np.min(np.abs(Qpi_lspi-Qstar)))"
   ]
  },
  {
   "cell_type": "code",
   "execution_count": null,
   "metadata": {},
   "outputs": [],
   "source": [
    "print(\"Convergence to pi_star:\")\n",
    "delta = np.zeros((nb_iterations))\n",
    "for n in range(nb_iterations):\n",
    "    Q, residuals = policy_Qeval_iter(policy_from_w(w[n,:],phi),1e-4,10000)\n",
    "    delta[n] = np.max(np.abs(Q-Qstar))\n",
    "\n",
    "plt.plot(delta)\n",
    "plt.figure()\n",
    "plt.semilogy(delta);"
   ]
  },
  {
   "cell_type": "markdown",
   "metadata": {
    "collapsed": true
   },
   "source": [
    "As we already knew from the model-based class, Policy Iteration converges in a single iteration for this initial policy. Of course, in more complex domains (continuous, large number of states/actions), more refined feature functions will be required. As an exercice, you can try implementing LSPI on the inverted-pendulum domain from OpenAI Gym."
   ]
  },
  {
   "cell_type": "code",
   "execution_count": null,
   "metadata": {},
   "outputs": [],
   "source": []
  }
 ],
 "metadata": {
  "kernelspec": {
   "display_name": "Python 3",
   "language": "python",
   "name": "python3"
  },
  "language_info": {
   "codemirror_mode": {
    "name": "ipython",
    "version": 3
   },
   "file_extension": ".py",
   "mimetype": "text/x-python",
   "name": "python",
   "nbconvert_exporter": "python",
   "pygments_lexer": "ipython3",
<<<<<<< HEAD
   "version": "3.7.3"
=======
   "version": "3.6.8"
>>>>>>> c0e693d095f603cfdbf26b3d1a8a2ca71c54d7c8
  },
  "toc": {
   "base_numbering": 1,
   "nav_menu": {},
   "number_sections": true,
   "sideBar": true,
   "skip_h1_title": false,
   "title_cell": "Table of Contents",
   "title_sidebar": "Contents",
   "toc_cell": false,
   "toc_position": {
    "height": "326.717px",
    "left": "1134px",
    "top": "67.1333px",
    "width": "212px"
   },
   "toc_section_display": true,
   "toc_window_display": true
  }
 },
 "nbformat": 4,
 "nbformat_minor": 2
}
